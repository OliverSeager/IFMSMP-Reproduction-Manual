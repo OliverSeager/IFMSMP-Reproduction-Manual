{
 "cells": [
  {
   "cell_type": "markdown",
   "metadata": {},
   "source": [
    "# 1.5 - Getting Quarterly Shock Series\n",
    "\n",
    "This script uses the individual meeting-day shocks to construct a quarterly monetary policy shock series compatible with quarterly firm-level accounting data. \n",
    "\n",
    "Denoting the set of shocks $s_{t,i}$ which occur in quarter $t$ by $Q_t$ and the proportion of quarter $t$ that has elapsed when shock $s_{t,i}$ occurs by $\\delta_{t,i}$, each quarterly shock $\\gamma_t$ is given by...\n",
    "\n",
    "$$\\gamma_t = \\sum_{s_{t-1,i} \\in Q_{t-1}} \\delta_{t-1,i}s_{t-1,i} + \\sum_{s_{t,i} \\in Q_t} (1-\\delta_{t,i})s_{t,i} $$\n",
    "\n",
    "...following Gertler and Karadi (2015)."
   ]
  },
  {
   "cell_type": "markdown",
   "metadata": {},
   "source": [
    "### Preamble\n",
    "\n",
    "This script makes use of...\n",
    "\n",
    "- Pandas\n",
    "- NumPy"
   ]
  },
  {
   "cell_type": "code",
   "execution_count": 25,
   "metadata": {},
   "outputs": [],
   "source": [
    "import pandas as pd\n",
    "import numpy as np\n",
    "from pandas.tseries.offsets import DateOffset"
   ]
  },
  {
   "cell_type": "markdown",
   "metadata": {},
   "source": [
    "### Import Shocks, Including the Nakamura & Steinsson (2018) Series\n",
    "\n",
    "This block gets all 3 series into the same dataframe, with only common dates amongst the 3. "
   ]
  },
  {
   "cell_type": "code",
   "execution_count": 26,
   "metadata": {},
   "outputs": [],
   "source": [
    "shocks_df = pd.read_csv('purged_shocks.csv') # Import the shocks purged in 1.4\n",
    "\n",
    "ns_df = pd.read_excel('NS_Shocks.xlsx') # Get the Nakamura-Steinsson shock series\n",
    "\n",
    "ns_df = ns_df.rename(columns = {'date_daily':'Date','policy_news_shocks':'NS_shocks'})\n",
    "\n",
    "ns_df = ns_df.drop(columns = ['day','month','year','unscheduled_meetings','FFR_shock'])\n",
    "\n",
    "shocks_df['Date'] = [pd.Timestamp(x) for x in shocks_df['Date']]\n",
    "\n",
    "shocks_df = shocks_df.merge(ns_df, on = 'Date') # Merge the dataframes - this automatically drops any dates which do not feature\n",
    "                                                # in all series\n",
    "shocks_df = shocks_df.set_index('Date')"
   ]
  },
  {
   "cell_type": "markdown",
   "metadata": {},
   "source": [
    "### Finding pre-Quarterisation Correlations between Series"
   ]
  },
  {
   "cell_type": "code",
   "execution_count": 27,
   "metadata": {},
   "outputs": [
    {
     "data": {
      "text/html": [
       "<div>\n",
       "<style scoped>\n",
       "    .dataframe tbody tr th:only-of-type {\n",
       "        vertical-align: middle;\n",
       "    }\n",
       "\n",
       "    .dataframe tbody tr th {\n",
       "        vertical-align: top;\n",
       "    }\n",
       "\n",
       "    .dataframe thead th {\n",
       "        text-align: right;\n",
       "    }\n",
       "</style>\n",
       "<table border=\"1\" class=\"dataframe\">\n",
       "  <thead>\n",
       "    <tr style=\"text-align: right;\">\n",
       "      <th></th>\n",
       "      <th>S_shocks</th>\n",
       "      <th>full_shocks</th>\n",
       "      <th>NS_shocks</th>\n",
       "    </tr>\n",
       "  </thead>\n",
       "  <tbody>\n",
       "    <tr>\n",
       "      <th>S_shocks</th>\n",
       "      <td>1.000000</td>\n",
       "      <td>0.961156</td>\n",
       "      <td>0.347777</td>\n",
       "    </tr>\n",
       "    <tr>\n",
       "      <th>full_shocks</th>\n",
       "      <td>0.961156</td>\n",
       "      <td>1.000000</td>\n",
       "      <td>0.358553</td>\n",
       "    </tr>\n",
       "    <tr>\n",
       "      <th>NS_shocks</th>\n",
       "      <td>0.347777</td>\n",
       "      <td>0.358553</td>\n",
       "      <td>1.000000</td>\n",
       "    </tr>\n",
       "  </tbody>\n",
       "</table>\n",
       "</div>"
      ],
      "text/plain": [
       "             S_shocks  full_shocks  NS_shocks\n",
       "S_shocks     1.000000     0.961156   0.347777\n",
       "full_shocks  0.961156     1.000000   0.358553\n",
       "NS_shocks    0.347777     0.358553   1.000000"
      ]
     },
     "execution_count": 27,
     "metadata": {},
     "output_type": "execute_result"
    }
   ],
   "source": [
    "shocks_df.corr()"
   ]
  },
  {
   "cell_type": "markdown",
   "metadata": {},
   "source": [
    "### Getting the Gertler and Karadi (2015) Coefficients for Each Meeting Date\n",
    "\n",
    "This block establishes the proportion of each meeting-day shock that will contribute to shock corresponding to the quarter in which it occurs, and the shock corresponding to the quarter that follows."
   ]
  },
  {
   "cell_type": "code",
   "execution_count": 28,
   "metadata": {},
   "outputs": [],
   "source": [
    "## Get all quarter starts from 1995Q1 to 2014Q1 inclusive. Although quarterly shocks are constructed only for 1995Q2 to 2013Q4,\n",
    "## the method of summation is easier to carry out when an extra quarter either side of this period is included and then dropped\n",
    "## post-calculation.\n",
    "\n",
    "quarter_starts = [pd.Timestamp('1995-01-01') + DateOffset(months = m) for m in range(0,230,3)] \n",
    "\n",
    "## Initialise dataframe\n",
    "\n",
    "quarter_shocks_df = pd.DataFrame(index = quarter_starts)\n",
    "\n",
    "ante_dates = []\n",
    "\n",
    "ante_coefs = []\n",
    "\n",
    "post_dates = []\n",
    "\n",
    "post_coefs = []\n",
    "\n",
    "for date in shocks_df.index:\n",
    "    \n",
    "    # This establishes a Boolean for all quarter dates 3 months either side of the meeting date.\n",
    "    \n",
    "    b = (quarter_shocks_df.index <= date + DateOffset(months = 3))*(quarter_shocks_df.index > date + DateOffset(months = -3))\n",
    "    \n",
    "    ante, post = quarter_shocks_df.loc[b].index # 'ante' is current quarter start and 'post' is next quarter start\n",
    "    \n",
    "    ante_dates.append(ante)\n",
    "    \n",
    "    post_dates.append(post)\n",
    "    \n",
    "    ante_coef = (date - ante).days/(post - ante).days # proportion of quarter that has elapsed \n",
    "    \n",
    "    ante_coefs.append(ante_coef)\n",
    "    \n",
    "    post_coef = 1 - ante_coef # proportion of quarter that is yet to elapse.\n",
    "    \n",
    "    post_coefs.append(post_coef)\n",
    "    \n",
    "shocks_df['ante_date'] = ante_dates\n",
    "\n",
    "shocks_df['ante_coef'] = ante_coefs\n",
    "\n",
    "shocks_df['post_date'] = post_dates\n",
    "\n",
    "shocks_df['post_coef'] = post_coefs"
   ]
  },
  {
   "cell_type": "markdown",
   "metadata": {},
   "source": [
    "### Establishing the Quarterly Shocks\n",
    "\n",
    "This block carries builds the 4 quarterly shock series by carrying out the summation described above."
   ]
  },
  {
   "cell_type": "code",
   "execution_count": 29,
   "metadata": {},
   "outputs": [],
   "source": [
    "quarter_shocks_df['s_shock'] = np.zeros(len(quarter_shocks_df.index))\n",
    "\n",
    "quarter_shocks_df['full_shock'] = np.zeros(len(quarter_shocks_df.index))\n",
    "\n",
    "quarter_shocks_df['ns_shock'] = np.zeros(len(quarter_shocks_df.index))\n",
    "\n",
    "for qdate in quarter_shocks_df.index: # Loops through quarter starts\n",
    "    \n",
    "    for sdate in shocks_df.index: # Loops through meeting dates\n",
    "        \n",
    "        if shocks_df.loc[sdate,'ante_date'] == qdate: # True if quarter start corresponds to quarter in which meeting occurs\n",
    "            \n",
    "            quarter_shocks_df.loc[qdate,'s_shock'] = (quarter_shocks_df.loc[qdate,'s_shock']\n",
    "                                                      + shocks_df.loc[sdate,'S_shocks']*shocks_df.loc[sdate,'ante_coef'])\n",
    "            \n",
    "            quarter_shocks_df.loc[qdate,'ns_shock'] = (quarter_shocks_df.loc[qdate,'ns_shock']\n",
    "                                                      + shocks_df.loc[sdate,'NS_shocks']*shocks_df.loc[sdate,'ante_coef'])\n",
    "            \n",
    "            quarter_shocks_df.loc[qdate,'full_shock'] = (quarter_shocks_df.loc[qdate,'full_shock']\n",
    "                                                      + shocks_df.loc[sdate,'full_shocks']*shocks_df.loc[sdate,'ante_coef'])\n",
    "            \n",
    "        elif shocks_df.loc[sdate,'post_date'] == qdate: # True if quarter start corresponds to quarter after that in which \n",
    "                                                        # meeting occurs\n",
    "                \n",
    "            quarter_shocks_df.loc[qdate,'s_shock'] = (quarter_shocks_df.loc[qdate,'s_shock']\n",
    "                                                      + shocks_df.loc[sdate,'S_shocks']*shocks_df.loc[sdate,'post_coef'])\n",
    "            \n",
    "            quarter_shocks_df.loc[qdate,'ns_shock'] = (quarter_shocks_df.loc[qdate,'ns_shock']\n",
    "                                                      + shocks_df.loc[sdate,'NS_shocks']*shocks_df.loc[sdate,'post_coef'])\n",
    "            \n",
    "            quarter_shocks_df.loc[qdate,'full_shock'] = (quarter_shocks_df.loc[qdate,'full_shock']\n",
    "                                                      + shocks_df.loc[sdate,'full_shocks']*shocks_df.loc[sdate,'post_coef'])\n",
    "            \n",
    "## Drop extraneous quarters either side of the period of interest\n",
    "            \n",
    "quarter_shocks_df = quarter_shocks_df.drop(index = [quarter_shocks_df.index[0],quarter_shocks_df.index[-1]])"
   ]
  },
  {
   "cell_type": "markdown",
   "metadata": {},
   "source": [
    "### Finding post-Quarterisation Correlations"
   ]
  },
  {
   "cell_type": "code",
   "execution_count": 30,
   "metadata": {},
   "outputs": [
    {
     "data": {
      "text/html": [
       "<div>\n",
       "<style scoped>\n",
       "    .dataframe tbody tr th:only-of-type {\n",
       "        vertical-align: middle;\n",
       "    }\n",
       "\n",
       "    .dataframe tbody tr th {\n",
       "        vertical-align: top;\n",
       "    }\n",
       "\n",
       "    .dataframe thead th {\n",
       "        text-align: right;\n",
       "    }\n",
       "</style>\n",
       "<table border=\"1\" class=\"dataframe\">\n",
       "  <thead>\n",
       "    <tr style=\"text-align: right;\">\n",
       "      <th></th>\n",
       "      <th>s_shock</th>\n",
       "      <th>full_shock</th>\n",
       "      <th>ns_shock</th>\n",
       "    </tr>\n",
       "  </thead>\n",
       "  <tbody>\n",
       "    <tr>\n",
       "      <th>s_shock</th>\n",
       "      <td>1.000000</td>\n",
       "      <td>0.966717</td>\n",
       "      <td>0.291039</td>\n",
       "    </tr>\n",
       "    <tr>\n",
       "      <th>full_shock</th>\n",
       "      <td>0.966717</td>\n",
       "      <td>1.000000</td>\n",
       "      <td>0.324257</td>\n",
       "    </tr>\n",
       "    <tr>\n",
       "      <th>ns_shock</th>\n",
       "      <td>0.291039</td>\n",
       "      <td>0.324257</td>\n",
       "      <td>1.000000</td>\n",
       "    </tr>\n",
       "  </tbody>\n",
       "</table>\n",
       "</div>"
      ],
      "text/plain": [
       "             s_shock  full_shock  ns_shock\n",
       "s_shock     1.000000    0.966717  0.291039\n",
       "full_shock  0.966717    1.000000  0.324257\n",
       "ns_shock    0.291039    0.324257  1.000000"
      ]
     },
     "execution_count": 30,
     "metadata": {},
     "output_type": "execute_result"
    }
   ],
   "source": [
    "quarter_shocks_df.corr()"
   ]
  },
  {
   "cell_type": "code",
   "execution_count": 37,
   "metadata": {},
   "outputs": [
    {
     "data": {
      "image/png": "[encoded data removed]",
      "text/plain": [
       "<Figure size 720x360 with 1 Axes>"
      ]
     },
     "metadata": {
      "needs_background": "light"
     },
     "output_type": "display_data"
    }
   ],
   "source": [
    "from matplotlib import pyplot as plt\n",
    "\n",
    "y = quarter_shocks_df.s_shock.values\n",
    "\n",
    "colors = []\n",
    "\n",
    "x = quarter_shocks_df.index\n",
    "\n",
    "QE = [120]\n",
    "\n",
    "for i in range(len(y)):\n",
    "    \n",
    "    if i in QE:\n",
    "        \n",
    "        colors.append('orange')\n",
    "    \n",
    "    elif y[i] > 0:\n",
    "        \n",
    "        colors.append('r')\n",
    "    \n",
    "    else:\n",
    "        \n",
    "        colors.append('g')\n",
    "\n",
    "fig = plt.figure(figsize = (10,5))\n",
    "\n",
    "plt.bar(x,y, width = 25, color = colors)\n",
    "\n",
    "plt.ylabel('Shock')\n",
    "\n",
    "#plt.ylim([-0.8,0.8])\n",
    "\n",
    "plt.gca().spines['right'].set_visible(False)\n",
    "plt.gca().spines['top'].set_visible(False)\n",
    "\n",
    "plt.show()"
   ]
  },
  {
   "cell_type": "markdown",
   "metadata": {},
   "source": [
    "### Export to *.csv*"
   ]
  },
  {
   "cell_type": "code",
   "execution_count": 31,
   "metadata": {},
   "outputs": [],
   "source": [
    "quarter_shocks_df.to_csv(\"quarter_shocks.csv\")"
   ]
  }
 ],
 "metadata": {
  "kernelspec": {
   "display_name": "Python 3",
   "language": "python",
   "name": "python3"
  },
  "language_info": {
   "codemirror_mode": {
    "name": "ipython",
    "version": 3
   },
   "file_extension": ".py",
   "mimetype": "text/x-python",
   "name": "python",
   "nbconvert_exporter": "python",
   "pygments_lexer": "ipython3",
   "version": "3.7.1"
  }
 },
 "nbformat": 4,
 "nbformat_minor": 2
}
