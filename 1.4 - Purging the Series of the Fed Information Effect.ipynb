{
 "cells": [
  {
   "cell_type": "markdown",
   "metadata": {},
   "source": [
    "# 1.4 - Purging the Series of the Fed Information Effect\n",
    "\n",
    "This script purges the series created in 1.2 of the Fed Information Effect using the Greenbook forecast data gathered in 1.3. Following Mirranda-Aggripino (2016), taking $s_t$ to be the raw shock for meeting $t$ calculated in 1.2 and $\\Gamma_t$ to be a vector of Greenbook forecast data corresponding to meeting $t$, I take $u_t$ to be the *true* shock - that which cannot be explained by the beliefs the Fed currently has about real GDP growth, inflation and unemployment for the current and next 4 quarters, conducting OLS regression as follows...\n",
    "\n",
    "$$s_t = \\alpha + \\mathbf{\\beta}\\cdot\\mathbf{\\Gamma}_t + u_t$$\n",
    "\n",
    "Potential specifications for $\\Gamma$ are constructed from forecast revisions for...\n",
    "- all non-empty combinations of real GDP growth, inflation and unemployment.\n",
    "- Only the current quarter $q_0$, or all data through to $q_1$, $q_2$, $q_3$ or $q_4$, or only data for $q_0$ and $q_4$, or only data for $q_0$,$q_1$ and $q_4$\n",
    "\n",
    "...providing $7\\cdot7=49$ possible specifications.\n",
    "\n",
    "Specifcations taken forth are...\n",
    "##### Rewrite"
   ]
  },
  {
   "cell_type": "markdown",
   "metadata": {},
   "source": [
    "### Preamble\n",
    "\n",
    "This script makes use of...\n",
    "\n",
    "- Pandas\n",
    "- StatsModels"
   ]
  },
  {
   "cell_type": "code",
   "execution_count": 133,
   "metadata": {},
   "outputs": [],
   "source": [
    "import pandas as pd\n",
    "import statsmodels.api as sm"
   ]
  },
  {
   "cell_type": "markdown",
   "metadata": {},
   "source": [
    "### Import the Raw Shock Dataframe\n",
    "\n",
    "This block imports the raw shock dataframe created in 1.2, and fixes the date indices such that it is commensurable with the Greenbook forecast dataframe."
   ]
  },
  {
   "cell_type": "code",
   "execution_count": 134,
   "metadata": {},
   "outputs": [],
   "source": [
    "shock_df = pd.read_csv('shock.csv')\n",
    "\n",
    "shock_df = shock_df.rename(columns = {'Unnamed: 0':'Date'})\n",
    "\n",
    "shock_df['Date'] = [pd.Timestamp(date) for date in shock_df['Date']] # .csv format saves dates as strings; this gets them back into Pandas timestamp format\n",
    "                                                                     \n",
    "shock_df = shock_df.set_index('Date')"
   ]
  },
  {
   "cell_type": "markdown",
   "metadata": {},
   "source": [
    "### Add the Nakamura and Steinsson (2018) Series to the Shock Dataframe"
   ]
  },
  {
   "cell_type": "code",
   "execution_count": 135,
   "metadata": {},
   "outputs": [],
   "source": [
    "ns_df = pd.read_excel('NS_Shocks.xlsx') # Get the Nakamura-Steinsson shock series\n",
    "\n",
    "ns_df = ns_df.rename(columns = {'date_daily':'Date','policy_news_shocks':'ns_shocks'})\n",
    "\n",
    "ns_df = ns_df.drop(columns = ['day','month','year','unscheduled_meetings','FFR_shock'])\n",
    "\n",
    "shock_df = shock_df.merge(ns_df, on = 'Date') # Merge the dataframes - this automatically drops any dates which do not feature in all series\n",
    "\n",
    "shock_df = shock_df.set_index('Date')\n",
    "\n",
    "shock_df = shock_df.rename(columns = {'shock':'s_shocks'})"
   ]
  },
  {
   "cell_type": "markdown",
   "metadata": {},
   "source": [
    "### Import the Greenbook Dataframe\n",
    "\n",
    "This block imports the greenbook forecast revisions dataframe created in 1.3, fixes the date indices, and corrects for rounding errors from storage in Unix timestamp format."
   ]
  },
  {
   "cell_type": "code",
   "execution_count": 136,
   "metadata": {},
   "outputs": [],
   "source": [
    "greenbook_df = pd.read_csv('greenbook.csv')\n",
    "\n",
    "greenbook_df = greenbook_df.rename(columns = {'Unnamed: 0': ''})\n",
    "\n",
    "greenbook_df = greenbook_df.set_index('')\n",
    "\n",
    "greenbook_df = greenbook_df.T\n",
    "\n",
    "greenbook_df.index = [pd.Timestamp(int(ts) + 21600 - ((int(ts) + 21600) % 86400), unit = 's') for ts in greenbook_df.index]\n",
    "\n",
    "greenbook_df.index.name = 'Date'"
   ]
  },
  {
   "cell_type": "markdown",
   "metadata": {},
   "source": [
    "### Get Matching Dataframe Indices\n",
    "\n",
    "This block drops Greenbook forecast revision data for meeting dates for which I have no shock (currently just 12th November, 1997) "
   ]
  },
  {
   "cell_type": "code",
   "execution_count": 137,
   "metadata": {},
   "outputs": [
    {
     "name": "stdout",
     "output_type": "stream",
     "text": [
      "Indices align.\n"
     ]
    }
   ],
   "source": [
    "## Drop dates for which no shocks\n",
    "\n",
    "greenbook_df = greenbook_df.drop(index = greenbook_df.index[[date not in shock_df.index for date in greenbook_df.index]])\n",
    "\n",
    "## Check for any dates in the shock index that are not in the Greenbook index (misalignment likely reflects an error in 1.1).\n",
    "\n",
    "if list(greenbook_df.index) == list(shock_df.index):\n",
    "    \n",
    "    print('Indices align.')\n",
    "    \n",
    "else:\n",
    "    \n",
    "    print('Indices do not align.')"
   ]
  },
  {
   "cell_type": "markdown",
   "metadata": {},
   "source": [
    "### Initialising the Regressor and Regressand Dataframes\n",
    "\n",
    "This block gets the raw shock into a single-column regressand dataframe, and adds a constant (i.e. a column of only 1s) to the Greenbook forecast dataframe. The OLS regression method in the StatsModels package is compatible with pandas dataframes, so the data are stored this way as an expedient."
   ]
  },
  {
   "cell_type": "code",
   "execution_count": 138,
   "metadata": {},
   "outputs": [],
   "source": [
    "regressand_df = shock_df.drop(columns = shock_df.columns[:-2])\n",
    "\n",
    "regressor_df = greenbook_df.copy() # For nominal clarity"
   ]
  },
  {
   "cell_type": "markdown",
   "metadata": {},
   "source": [
    "### Getting String Lists for Each Potential Specification\n",
    "\n",
    "This block uses some mathematical chicanery to get each of the 49 specifications mentioned above from `spec_list`."
   ]
  },
  {
   "cell_type": "code",
   "execution_count": 139,
   "metadata": {},
   "outputs": [],
   "source": [
    "spec_list = [['rgdp_q0','rgdp_q1','rgdp_q2','rgdp_q3','rgdp_q4'],\n",
    "            ['infl_q0', 'infl_q1', 'infl_q2', 'infl_q3', 'infl_q4'],\n",
    "            ['unmp_q0', 'unmp_q1', 'unmp_q2', 'unmp_q3', 'unmp_q4']]\n",
    "\n",
    "def select(List, indices): # This function allows for getting non-consecutive elements from a list.\n",
    "    return [List[i] for i in indices]\n",
    "\n",
    "## Get a set of indices for combinations of real GDP growth, inflation and unemployment.\n",
    "\n",
    "index_list_variables = [select(range(0,15,5),I) for I in [[0],[1],[2],[0,1],[0,2],[1,2],[0,1,2]]]\n",
    "\n",
    "index_list_full = []\n",
    "\n",
    "for item in index_list_variables: # This loop gets a set of indices for each of 0, 1, 2, 3 and 4 quarters out.\n",
    "    \n",
    "    for i in range(0,5):\n",
    "        \n",
    "        periods = []\n",
    "        \n",
    "        for j in item:\n",
    "            \n",
    "            periods = periods + [j + k for k in range(0,i+1)]\n",
    "            \n",
    "        index_list_full.append(periods)\n",
    "    \n",
    "for item in index_list_variables:\n",
    "    \n",
    "    add04 = []\n",
    "    \n",
    "    add014 = []\n",
    "    \n",
    "    for x in [[j,j+1,j+4] for j in item]:\n",
    "        \n",
    "        add04 = add04 + [x[0]] + [x[2]]\n",
    "        \n",
    "        add014 = add014 + x\n",
    "    \n",
    "    index_list_full.append(add04)\n",
    "    \n",
    "    index_list_full.append(add014)\n",
    "\n",
    "spec_list_full = [select(list(regressors_df.columns[1:]),subset) for subset in index_list_full] # Gets each specification in terms of strings"
   ]
  },
  {
   "cell_type": "markdown",
   "metadata": {},
   "source": [
    "### Building Dataframe for Specification Analysis\n",
    "\n",
    "This block gets the Akaike Information Criterion, Adjusted $R^2$, $R^2$ and number of regressors (`n`) for each specification into a single dataframe, allowing for analysis of each using Pandas' `.sort_values()` method."
   ]
  },
  {
   "cell_type": "code",
   "execution_count": 140,
   "metadata": {},
   "outputs": [],
   "source": [
    "## Initialise (rather ugly) dataframe - specifications as index and information for analysis as columns\n",
    "\n",
    "spec_df = pd.DataFrame(index = [','.join(s) for s in spec_list_full], columns = ['s_aic','s_adj_R^2','s_R^2','n','ns_aic','ns_adj_R^2','ns_R^2'])\n",
    "\n",
    "for spec in spec_list_full: # Loops through each specification\n",
    "    \n",
    "    s_model = sm.OLS(regressand_df['s_shocks'], regressors_df[spec]).fit() # This is the fitting of the model\n",
    "    \n",
    "    spec_df.loc[','.join(spec),'s_aic'] = s_model.aic\n",
    "    \n",
    "    spec_df.loc[','.join(spec),'s_adj_R^2'] = s_model.rsquared_adj\n",
    "    \n",
    "    spec_df.loc[','.join(spec),'s_R^2'] = s_model.rsquared\n",
    "    \n",
    "    spec_df.loc[','.join(spec),'n'] = len(spec)\n",
    "    \n",
    "    ns_model = sm.OLS(regressand_df['ns_shocks'], regressors_df[spec]).fit()\n",
    "    \n",
    "    spec_df.loc[','.join(spec),'ns_aic'] = ns_model.aic\n",
    "    \n",
    "    spec_df.loc[','.join(spec),'ns_adj_R^2'] = ns_model.rsquared_adj\n",
    "    \n",
    "    spec_df.loc[','.join(spec),'ns_R^2'] = ns_model.rsquared"
   ]
  },
  {
   "cell_type": "markdown",
   "metadata": {},
   "source": [
    "### (Analysis Conducted to Determine Which Specification to Use)"
   ]
  },
  {
   "cell_type": "code",
   "execution_count": 141,
   "metadata": {},
   "outputs": [],
   "source": [
    "#spec_df = spec_df.sort_values('s_aic', ascending = True)\n",
    "\n",
    "#spec_df['s_rank'] = list(range(1,len(spec_df.index)+1))\n",
    "\n",
    "#spec_df = spec_df.sort_values('ns_aic', ascending = True)\n",
    "\n",
    "#spec_df['ns_rank'] = list(range(1,len(spec_df.index)+1))\n",
    "\n",
    "#spec_df['rank_sum'] = spec_df['s_rank'] + spec_df['ns_rank']\n",
    "\n",
    "#spec_df.sort_values('rank_sum')"
   ]
  },
  {
   "cell_type": "markdown",
   "metadata": {},
   "source": [
    "### Building the Purged Shock Series Dataframe\n",
    "\n",
    "This block produces the OLS model for each series carried forth (justifications given above) and gets the residuals into a dataframe."
   ]
  },
  {
   "cell_type": "code",
   "execution_count": 142,
   "metadata": {},
   "outputs": [],
   "source": [
    "subset = 'rgdp_q0,rgdp_q1,rgdp_q4,infl_q0,infl_q1,infl_q4'.split(',')\n",
    "\n",
    "S_model = sm.OLS(regressand_df['s_shocks'], regressors_df[subset]).fit()\n",
    "\n",
    "NS_model = sm.OLS(regressand_df['ns_shocks'], regressors_df[subset]).fit()\n",
    "\n",
    "purged_shocks_df = pd.DataFrame(index = greenbook_df.index)\n",
    "\n",
    "purged_shocks_df['S_shocks'] = S_model.resid # This gets the residuals for each value\n",
    "\n",
    "purged_shocks_df['NS_shocks'] = NS_model.resid\n",
    "\n",
    "purged_shocks_df['S_shocks_raw'] = shock_df['s_shocks']\n",
    "\n",
    "purged_shocks_df['NS_shocks_raw'] = shock_df['ns_shocks']"
   ]
  },
  {
   "cell_type": "markdown",
   "metadata": {},
   "source": [
    "### Export to *.csv*"
   ]
  },
  {
   "cell_type": "code",
   "execution_count": 143,
   "metadata": {},
   "outputs": [],
   "source": [
    "purged_shocks_df.to_csv('purged_shocks.csv')"
   ]
  },
  {
   "cell_type": "markdown",
   "metadata": {},
   "source": [
    "### Data For Table 4"
   ]
  },
  {
   "cell_type": "code",
   "execution_count": 144,
   "metadata": {},
   "outputs": [
    {
     "data": {
      "text/plain": [
       "rgdp_q0    0.005396\n",
       "rgdp_q1    0.450664\n",
       "rgdp_q4    0.000257\n",
       "infl_q0    0.025047\n",
       "infl_q1    0.003487\n",
       "infl_q4    0.339617\n",
       "dtype: float64"
      ]
     },
     "execution_count": 144,
     "metadata": {},
     "output_type": "execute_result"
    }
   ],
   "source": [
    "S_model.pvalues"
   ]
  },
  {
   "cell_type": "code",
   "execution_count": 145,
   "metadata": {},
   "outputs": [
    {
     "data": {
      "text/html": [
       "<table class=\"simpletable\">\n",
       "<caption>OLS Regression Results</caption>\n",
       "<tr>\n",
       "  <th>Dep. Variable:</th>        <td>s_shocks</td>     <th>  R-squared:         </th> <td>   0.177</td>\n",
       "</tr>\n",
       "<tr>\n",
       "  <th>Model:</th>                   <td>OLS</td>       <th>  Adj. R-squared:    </th> <td>   0.143</td>\n",
       "</tr>\n",
       "<tr>\n",
       "  <th>Method:</th>             <td>Least Squares</td>  <th>  F-statistic:       </th> <td>   5.193</td>\n",
       "</tr>\n",
       "<tr>\n",
       "  <th>Date:</th>             <td>Thu, 07 Nov 2019</td> <th>  Prob (F-statistic):</th> <td>7.22e-05</td>\n",
       "</tr>\n",
       "<tr>\n",
       "  <th>Time:</th>                 <td>04:39:45</td>     <th>  Log-Likelihood:    </th> <td>  68.671</td>\n",
       "</tr>\n",
       "<tr>\n",
       "  <th>No. Observations:</th>      <td>   151</td>      <th>  AIC:               </th> <td>  -125.3</td>\n",
       "</tr>\n",
       "<tr>\n",
       "  <th>Df Residuals:</th>          <td>   145</td>      <th>  BIC:               </th> <td>  -107.2</td>\n",
       "</tr>\n",
       "<tr>\n",
       "  <th>Df Model:</th>              <td>     6</td>      <th>                     </th>     <td> </td>   \n",
       "</tr>\n",
       "<tr>\n",
       "  <th>Covariance Type:</th>      <td>nonrobust</td>    <th>                     </th>     <td> </td>   \n",
       "</tr>\n",
       "</table>\n",
       "<table class=\"simpletable\">\n",
       "<tr>\n",
       "     <td></td>        <th>coef</th>     <th>std err</th>      <th>t</th>      <th>P>|t|</th>  <th>[0.025</th>    <th>0.975]</th>  \n",
       "</tr>\n",
       "<tr>\n",
       "  <th>rgdp_q0</th> <td>    0.0526</td> <td>    0.019</td> <td>    2.825</td> <td> 0.005</td> <td>    0.016</td> <td>    0.089</td>\n",
       "</tr>\n",
       "<tr>\n",
       "  <th>rgdp_q1</th> <td>   -0.0175</td> <td>    0.023</td> <td>   -0.756</td> <td> 0.451</td> <td>   -0.063</td> <td>    0.028</td>\n",
       "</tr>\n",
       "<tr>\n",
       "  <th>rgdp_q4</th> <td>    0.1550</td> <td>    0.041</td> <td>    3.748</td> <td> 0.000</td> <td>    0.073</td> <td>    0.237</td>\n",
       "</tr>\n",
       "<tr>\n",
       "  <th>infl_q0</th> <td>    0.0554</td> <td>    0.024</td> <td>    2.264</td> <td> 0.025</td> <td>    0.007</td> <td>    0.104</td>\n",
       "</tr>\n",
       "<tr>\n",
       "  <th>infl_q1</th> <td>    0.1128</td> <td>    0.038</td> <td>    2.970</td> <td> 0.003</td> <td>    0.038</td> <td>    0.188</td>\n",
       "</tr>\n",
       "<tr>\n",
       "  <th>infl_q4</th> <td>   -0.0926</td> <td>    0.097</td> <td>   -0.958</td> <td> 0.340</td> <td>   -0.284</td> <td>    0.098</td>\n",
       "</tr>\n",
       "</table>\n",
       "<table class=\"simpletable\">\n",
       "<tr>\n",
       "  <th>Omnibus:</th>       <td>34.608</td> <th>  Durbin-Watson:     </th> <td>   2.102</td>\n",
       "</tr>\n",
       "<tr>\n",
       "  <th>Prob(Omnibus):</th> <td> 0.000</td> <th>  Jarque-Bera (JB):  </th> <td>  73.733</td>\n",
       "</tr>\n",
       "<tr>\n",
       "  <th>Skew:</th>          <td> 0.992</td> <th>  Prob(JB):          </th> <td>9.75e-17</td>\n",
       "</tr>\n",
       "<tr>\n",
       "  <th>Kurtosis:</th>      <td> 5.789</td> <th>  Cond. No.          </th> <td>    7.57</td>\n",
       "</tr>\n",
       "</table><br/><br/>Warnings:<br/>[1] Standard Errors assume that the covariance matrix of the errors is correctly specified."
      ],
      "text/plain": [
       "<class 'statsmodels.iolib.summary.Summary'>\n",
       "\"\"\"\n",
       "                            OLS Regression Results                            \n",
       "==============================================================================\n",
       "Dep. Variable:               s_shocks   R-squared:                       0.177\n",
       "Model:                            OLS   Adj. R-squared:                  0.143\n",
       "Method:                 Least Squares   F-statistic:                     5.193\n",
       "Date:                Thu, 07 Nov 2019   Prob (F-statistic):           7.22e-05\n",
       "Time:                        04:39:45   Log-Likelihood:                 68.671\n",
       "No. Observations:                 151   AIC:                            -125.3\n",
       "Df Residuals:                     145   BIC:                            -107.2\n",
       "Df Model:                           6                                         \n",
       "Covariance Type:            nonrobust                                         \n",
       "==============================================================================\n",
       "                 coef    std err          t      P>|t|      [0.025      0.975]\n",
       "------------------------------------------------------------------------------\n",
       "rgdp_q0        0.0526      0.019      2.825      0.005       0.016       0.089\n",
       "rgdp_q1       -0.0175      0.023     -0.756      0.451      -0.063       0.028\n",
       "rgdp_q4        0.1550      0.041      3.748      0.000       0.073       0.237\n",
       "infl_q0        0.0554      0.024      2.264      0.025       0.007       0.104\n",
       "infl_q1        0.1128      0.038      2.970      0.003       0.038       0.188\n",
       "infl_q4       -0.0926      0.097     -0.958      0.340      -0.284       0.098\n",
       "==============================================================================\n",
       "Omnibus:                       34.608   Durbin-Watson:                   2.102\n",
       "Prob(Omnibus):                  0.000   Jarque-Bera (JB):               73.733\n",
       "Skew:                           0.992   Prob(JB):                     9.75e-17\n",
       "Kurtosis:                       5.789   Cond. No.                         7.57\n",
       "==============================================================================\n",
       "\n",
       "Warnings:\n",
       "[1] Standard Errors assume that the covariance matrix of the errors is correctly specified.\n",
       "\"\"\""
      ]
     },
     "execution_count": 145,
     "metadata": {},
     "output_type": "execute_result"
    }
   ],
   "source": [
    "S_model.summary()"
   ]
  },
  {
   "cell_type": "code",
   "execution_count": 146,
   "metadata": {},
   "outputs": [
    {
     "data": {
      "text/plain": [
       "rgdp_q0    0.079999\n",
       "rgdp_q1    0.326932\n",
       "rgdp_q4    0.018898\n",
       "infl_q0    0.017996\n",
       "infl_q1    0.245044\n",
       "infl_q4    0.888809\n",
       "dtype: float64"
      ]
     },
     "execution_count": 146,
     "metadata": {},
     "output_type": "execute_result"
    }
   ],
   "source": [
    "NS_model.pvalues"
   ]
  },
  {
   "cell_type": "code",
   "execution_count": 147,
   "metadata": {},
   "outputs": [
    {
     "data": {
      "text/html": [
       "<table class=\"simpletable\">\n",
       "<caption>OLS Regression Results</caption>\n",
       "<tr>\n",
       "  <th>Dep. Variable:</th>        <td>ns_shocks</td>    <th>  R-squared:         </th> <td>   0.126</td>\n",
       "</tr>\n",
       "<tr>\n",
       "  <th>Model:</th>                   <td>OLS</td>       <th>  Adj. R-squared:    </th> <td>   0.090</td>\n",
       "</tr>\n",
       "<tr>\n",
       "  <th>Method:</th>             <td>Least Squares</td>  <th>  F-statistic:       </th> <td>   3.489</td>\n",
       "</tr>\n",
       "<tr>\n",
       "  <th>Date:</th>             <td>Thu, 07 Nov 2019</td> <th>  Prob (F-statistic):</th>  <td>0.00298</td>\n",
       "</tr>\n",
       "<tr>\n",
       "  <th>Time:</th>                 <td>04:39:45</td>     <th>  Log-Likelihood:    </th> <td>  296.04</td>\n",
       "</tr>\n",
       "<tr>\n",
       "  <th>No. Observations:</th>      <td>   151</td>      <th>  AIC:               </th> <td>  -580.1</td>\n",
       "</tr>\n",
       "<tr>\n",
       "  <th>Df Residuals:</th>          <td>   145</td>      <th>  BIC:               </th> <td>  -562.0</td>\n",
       "</tr>\n",
       "<tr>\n",
       "  <th>Df Model:</th>              <td>     6</td>      <th>                     </th>     <td> </td>   \n",
       "</tr>\n",
       "<tr>\n",
       "  <th>Covariance Type:</th>      <td>nonrobust</td>    <th>                     </th>     <td> </td>   \n",
       "</tr>\n",
       "</table>\n",
       "<table class=\"simpletable\">\n",
       "<tr>\n",
       "     <td></td>        <th>coef</th>     <th>std err</th>      <th>t</th>      <th>P>|t|</th>  <th>[0.025</th>    <th>0.975]</th>  \n",
       "</tr>\n",
       "<tr>\n",
       "  <th>rgdp_q0</th> <td>    0.0073</td> <td>    0.004</td> <td>    1.763</td> <td> 0.080</td> <td>   -0.001</td> <td>    0.015</td>\n",
       "</tr>\n",
       "<tr>\n",
       "  <th>rgdp_q1</th> <td>    0.0051</td> <td>    0.005</td> <td>    0.984</td> <td> 0.327</td> <td>   -0.005</td> <td>    0.015</td>\n",
       "</tr>\n",
       "<tr>\n",
       "  <th>rgdp_q4</th> <td>    0.0218</td> <td>    0.009</td> <td>    2.374</td> <td> 0.019</td> <td>    0.004</td> <td>    0.040</td>\n",
       "</tr>\n",
       "<tr>\n",
       "  <th>infl_q0</th> <td>    0.0130</td> <td>    0.005</td> <td>    2.393</td> <td> 0.018</td> <td>    0.002</td> <td>    0.024</td>\n",
       "</tr>\n",
       "<tr>\n",
       "  <th>infl_q1</th> <td>    0.0098</td> <td>    0.008</td> <td>    1.167</td> <td> 0.245</td> <td>   -0.007</td> <td>    0.026</td>\n",
       "</tr>\n",
       "<tr>\n",
       "  <th>infl_q4</th> <td>    0.0030</td> <td>    0.021</td> <td>    0.140</td> <td> 0.889</td> <td>   -0.039</td> <td>    0.045</td>\n",
       "</tr>\n",
       "</table>\n",
       "<table class=\"simpletable\">\n",
       "<tr>\n",
       "  <th>Omnibus:</th>       <td>41.477</td> <th>  Durbin-Watson:     </th> <td>   2.181</td>\n",
       "</tr>\n",
       "<tr>\n",
       "  <th>Prob(Omnibus):</th> <td> 0.000</td> <th>  Jarque-Bera (JB):  </th> <td>  95.907</td>\n",
       "</tr>\n",
       "<tr>\n",
       "  <th>Skew:</th>          <td>-1.154</td> <th>  Prob(JB):          </th> <td>1.49e-21</td>\n",
       "</tr>\n",
       "<tr>\n",
       "  <th>Kurtosis:</th>      <td> 6.149</td> <th>  Cond. No.          </th> <td>    7.57</td>\n",
       "</tr>\n",
       "</table><br/><br/>Warnings:<br/>[1] Standard Errors assume that the covariance matrix of the errors is correctly specified."
      ],
      "text/plain": [
       "<class 'statsmodels.iolib.summary.Summary'>\n",
       "\"\"\"\n",
       "                            OLS Regression Results                            \n",
       "==============================================================================\n",
       "Dep. Variable:              ns_shocks   R-squared:                       0.126\n",
       "Model:                            OLS   Adj. R-squared:                  0.090\n",
       "Method:                 Least Squares   F-statistic:                     3.489\n",
       "Date:                Thu, 07 Nov 2019   Prob (F-statistic):            0.00298\n",
       "Time:                        04:39:45   Log-Likelihood:                 296.04\n",
       "No. Observations:                 151   AIC:                            -580.1\n",
       "Df Residuals:                     145   BIC:                            -562.0\n",
       "Df Model:                           6                                         \n",
       "Covariance Type:            nonrobust                                         \n",
       "==============================================================================\n",
       "                 coef    std err          t      P>|t|      [0.025      0.975]\n",
       "------------------------------------------------------------------------------\n",
       "rgdp_q0        0.0073      0.004      1.763      0.080      -0.001       0.015\n",
       "rgdp_q1        0.0051      0.005      0.984      0.327      -0.005       0.015\n",
       "rgdp_q4        0.0218      0.009      2.374      0.019       0.004       0.040\n",
       "infl_q0        0.0130      0.005      2.393      0.018       0.002       0.024\n",
       "infl_q1        0.0098      0.008      1.167      0.245      -0.007       0.026\n",
       "infl_q4        0.0030      0.021      0.140      0.889      -0.039       0.045\n",
       "==============================================================================\n",
       "Omnibus:                       41.477   Durbin-Watson:                   2.181\n",
       "Prob(Omnibus):                  0.000   Jarque-Bera (JB):               95.907\n",
       "Skew:                          -1.154   Prob(JB):                     1.49e-21\n",
       "Kurtosis:                       6.149   Cond. No.                         7.57\n",
       "==============================================================================\n",
       "\n",
       "Warnings:\n",
       "[1] Standard Errors assume that the covariance matrix of the errors is correctly specified.\n",
       "\"\"\""
      ]
     },
     "execution_count": 147,
     "metadata": {},
     "output_type": "execute_result"
    }
   ],
   "source": [
    "NS_model.summary()"
   ]
  },
  {
   "cell_type": "markdown",
   "metadata": {},
   "source": [
    "### Producing Figure 2"
   ]
  },
  {
   "cell_type": "code",
   "execution_count": 148,
   "metadata": {},
   "outputs": [
    {
     "data": {
      "image/png": "[encoded data removed]",
      "text/plain": [
       "<Figure size 720x360 with 1 Axes>"
      ]
     },
     "metadata": {
      "needs_background": "light"
     },
     "output_type": "display_data"
    }
   ],
   "source": [
    "both_df = pd.DataFrame(index = shock_df.index)\n",
    "\n",
    "both_df['Raw'] = -1*shock_df['s_shocks']\n",
    "\n",
    "both_df['Purged'] = -1*purged_shocks_df['S_shocks']\n",
    "\n",
    "from matplotlib import pyplot as plt\n",
    "\n",
    "y1 = both_df.Raw.values[79:]\n",
    "\n",
    "x1 = both_df.index[79:] + pd.DateOffset(days = -9)\n",
    "\n",
    "y2 = both_df.Purged.values[79:]\n",
    "\n",
    "x2 = both_df.index[79:] + pd.DateOffset(days = 9)\n",
    "\n",
    "fig = plt.figure(figsize = (10,5))\n",
    "\n",
    "plt.bar(x1,y1, width = 14, color = 'k')\n",
    "\n",
    "plt.bar(x2,y2, width = 14, color = 'b')\n",
    "\n",
    "plt.ylabel('Shock')\n",
    "\n",
    "plt.ylim([-0.8,0.8])\n",
    "\n",
    "plt.gca().spines['right'].set_visible(False)\n",
    "plt.gca().spines['top'].set_visible(False)"
   ]
  },
  {
   "cell_type": "markdown",
   "metadata": {},
   "source": [
    "### Determining Number of Sign Changes"
   ]
  },
  {
   "cell_type": "code",
   "execution_count": 149,
   "metadata": {},
   "outputs": [
    {
     "name": "stdout",
     "output_type": "stream",
     "text": [
      "21 22\n"
     ]
    }
   ],
   "source": [
    "print(sum(shock_df['s_shocks']*purged_shocks_df['S_shocks'] < 0),sum(shock_df['ns_shocks']*purged_shocks_df['NS_shocks'] < 0))"
   ]
  },
  {
   "cell_type": "markdown",
   "metadata": {},
   "source": [
    "### Determining Mean Absolute Values of Series Undergoing Sign Changes"
   ]
  },
  {
   "cell_type": "code",
   "execution_count": 156,
   "metadata": {},
   "outputs": [
    {
     "name": "stdout",
     "output_type": "stream",
     "text": [
      "0.057465421779913775\n",
      "0.11791674677415513\n",
      "0.010000854545454546\n",
      "0.02528477682119206\n"
     ]
    }
   ],
   "source": [
    "print(abs(shock_df.loc[(shock_df['s_shocks']*purged_shocks_df['S_shocks'] < 0)].s_shocks).mean())\n",
    "\n",
    "print(abs(shock_df.s_shocks).mean())\n",
    "\n",
    "print(abs(shock_df.loc[(shock_df['ns_shocks']*purged_shocks_df['NS_shocks'] < 0)].ns_shocks).mean())\n",
    "\n",
    "print(abs(shock_df.ns_shocks).mean())"
   ]
  },
  {
   "cell_type": "markdown",
   "metadata": {},
   "source": [
    "### Getting pre-Purge Correlations"
   ]
  },
  {
   "cell_type": "code",
   "execution_count": 161,
   "metadata": {},
   "outputs": [
    {
     "data": {
      "text/html": [
       "<div>\n",
       "<style scoped>\n",
       "    .dataframe tbody tr th:only-of-type {\n",
       "        vertical-align: middle;\n",
       "    }\n",
       "\n",
       "    .dataframe tbody tr th {\n",
       "        vertical-align: top;\n",
       "    }\n",
       "\n",
       "    .dataframe thead th {\n",
       "        text-align: right;\n",
       "    }\n",
       "</style>\n",
       "<table border=\"1\" class=\"dataframe\">\n",
       "  <thead>\n",
       "    <tr style=\"text-align: right;\">\n",
       "      <th></th>\n",
       "      <th>ED6</th>\n",
       "      <th>ED12</th>\n",
       "      <th>ED24</th>\n",
       "      <th>FFR_t0t1</th>\n",
       "      <th>FFR_t1t2</th>\n",
       "      <th>s_shocks</th>\n",
       "      <th>ns_shocks</th>\n",
       "    </tr>\n",
       "  </thead>\n",
       "  <tbody>\n",
       "    <tr>\n",
       "      <th>ED6</th>\n",
       "      <td>1.000000</td>\n",
       "      <td>0.851280</td>\n",
       "      <td>0.649012</td>\n",
       "      <td>0.285034</td>\n",
       "      <td>0.364461</td>\n",
       "      <td>0.938774</td>\n",
       "      <td>0.388054</td>\n",
       "    </tr>\n",
       "    <tr>\n",
       "      <th>ED12</th>\n",
       "      <td>0.851280</td>\n",
       "      <td>1.000000</td>\n",
       "      <td>0.900475</td>\n",
       "      <td>0.235647</td>\n",
       "      <td>0.316436</td>\n",
       "      <td>0.971814</td>\n",
       "      <td>0.369848</td>\n",
       "    </tr>\n",
       "    <tr>\n",
       "      <th>ED24</th>\n",
       "      <td>0.649012</td>\n",
       "      <td>0.900475</td>\n",
       "      <td>1.000000</td>\n",
       "      <td>0.170915</td>\n",
       "      <td>0.232061</td>\n",
       "      <td>0.855950</td>\n",
       "      <td>0.316537</td>\n",
       "    </tr>\n",
       "    <tr>\n",
       "      <th>FFR_t0t1</th>\n",
       "      <td>0.285034</td>\n",
       "      <td>0.235647</td>\n",
       "      <td>0.170915</td>\n",
       "      <td>1.000000</td>\n",
       "      <td>0.787057</td>\n",
       "      <td>0.317810</td>\n",
       "      <td>0.609664</td>\n",
       "    </tr>\n",
       "    <tr>\n",
       "      <th>FFR_t1t2</th>\n",
       "      <td>0.364461</td>\n",
       "      <td>0.316436</td>\n",
       "      <td>0.232061</td>\n",
       "      <td>0.787057</td>\n",
       "      <td>1.000000</td>\n",
       "      <td>0.405891</td>\n",
       "      <td>0.769512</td>\n",
       "    </tr>\n",
       "    <tr>\n",
       "      <th>s_shocks</th>\n",
       "      <td>0.938774</td>\n",
       "      <td>0.971814</td>\n",
       "      <td>0.855950</td>\n",
       "      <td>0.317810</td>\n",
       "      <td>0.405891</td>\n",
       "      <td>1.000000</td>\n",
       "      <td>0.437455</td>\n",
       "    </tr>\n",
       "    <tr>\n",
       "      <th>ns_shocks</th>\n",
       "      <td>0.388054</td>\n",
       "      <td>0.369848</td>\n",
       "      <td>0.316537</td>\n",
       "      <td>0.609664</td>\n",
       "      <td>0.769512</td>\n",
       "      <td>0.437455</td>\n",
       "      <td>1.000000</td>\n",
       "    </tr>\n",
       "  </tbody>\n",
       "</table>\n",
       "</div>"
      ],
      "text/plain": [
       "                ED6      ED12      ED24  FFR_t0t1  FFR_t1t2  s_shocks  \\\n",
       "ED6        1.000000  0.851280  0.649012  0.285034  0.364461  0.938774   \n",
       "ED12       0.851280  1.000000  0.900475  0.235647  0.316436  0.971814   \n",
       "ED24       0.649012  0.900475  1.000000  0.170915  0.232061  0.855950   \n",
       "FFR_t0t1   0.285034  0.235647  0.170915  1.000000  0.787057  0.317810   \n",
       "FFR_t1t2   0.364461  0.316436  0.232061  0.787057  1.000000  0.405891   \n",
       "s_shocks   0.938774  0.971814  0.855950  0.317810  0.405891  1.000000   \n",
       "ns_shocks  0.388054  0.369848  0.316537  0.609664  0.769512  0.437455   \n",
       "\n",
       "           ns_shocks  \n",
       "ED6         0.388054  \n",
       "ED12        0.369848  \n",
       "ED24        0.316537  \n",
       "FFR_t0t1    0.609664  \n",
       "FFR_t1t2    0.769512  \n",
       "s_shocks    0.437455  \n",
       "ns_shocks   1.000000  "
      ]
     },
     "execution_count": 161,
     "metadata": {},
     "output_type": "execute_result"
    }
   ],
   "source": [
    "shock_df.corr()"
   ]
  },
  {
   "cell_type": "code",
   "execution_count": 162,
   "metadata": {},
   "outputs": [
    {
     "data": {
      "text/html": [
       "<div>\n",
       "<style scoped>\n",
       "    .dataframe tbody tr th:only-of-type {\n",
       "        vertical-align: middle;\n",
       "    }\n",
       "\n",
       "    .dataframe tbody tr th {\n",
       "        vertical-align: top;\n",
       "    }\n",
       "\n",
       "    .dataframe thead th {\n",
       "        text-align: right;\n",
       "    }\n",
       "</style>\n",
       "<table border=\"1\" class=\"dataframe\">\n",
       "  <thead>\n",
       "    <tr style=\"text-align: right;\">\n",
       "      <th></th>\n",
       "      <th>ED6</th>\n",
       "      <th>ED12</th>\n",
       "      <th>ED24</th>\n",
       "      <th>FFR_t0t1</th>\n",
       "      <th>FFR_t1t2</th>\n",
       "      <th>s_shocks</th>\n",
       "      <th>ns_shocks</th>\n",
       "    </tr>\n",
       "  </thead>\n",
       "  <tbody>\n",
       "    <tr>\n",
       "      <th>ED6</th>\n",
       "      <td>1.000000</td>\n",
       "      <td>0.904312</td>\n",
       "      <td>0.716194</td>\n",
       "      <td>0.315709</td>\n",
       "      <td>0.408392</td>\n",
       "      <td>0.963729</td>\n",
       "      <td>0.422103</td>\n",
       "    </tr>\n",
       "    <tr>\n",
       "      <th>ED12</th>\n",
       "      <td>0.904312</td>\n",
       "      <td>1.000000</td>\n",
       "      <td>0.909652</td>\n",
       "      <td>0.275930</td>\n",
       "      <td>0.400897</td>\n",
       "      <td>0.978410</td>\n",
       "      <td>0.413924</td>\n",
       "    </tr>\n",
       "    <tr>\n",
       "      <th>ED24</th>\n",
       "      <td>0.716194</td>\n",
       "      <td>0.909652</td>\n",
       "      <td>1.000000</td>\n",
       "      <td>0.179658</td>\n",
       "      <td>0.289374</td>\n",
       "      <td>0.859183</td>\n",
       "      <td>0.344547</td>\n",
       "    </tr>\n",
       "    <tr>\n",
       "      <th>FFR_t0t1</th>\n",
       "      <td>0.315709</td>\n",
       "      <td>0.275930</td>\n",
       "      <td>0.179658</td>\n",
       "      <td>1.000000</td>\n",
       "      <td>0.778091</td>\n",
       "      <td>0.358134</td>\n",
       "      <td>0.593129</td>\n",
       "    </tr>\n",
       "    <tr>\n",
       "      <th>FFR_t1t2</th>\n",
       "      <td>0.408392</td>\n",
       "      <td>0.400897</td>\n",
       "      <td>0.289374</td>\n",
       "      <td>0.778091</td>\n",
       "      <td>1.000000</td>\n",
       "      <td>0.476305</td>\n",
       "      <td>0.775207</td>\n",
       "    </tr>\n",
       "    <tr>\n",
       "      <th>s_shocks</th>\n",
       "      <td>0.963729</td>\n",
       "      <td>0.978410</td>\n",
       "      <td>0.859183</td>\n",
       "      <td>0.358134</td>\n",
       "      <td>0.476305</td>\n",
       "      <td>1.000000</td>\n",
       "      <td>0.477287</td>\n",
       "    </tr>\n",
       "    <tr>\n",
       "      <th>ns_shocks</th>\n",
       "      <td>0.422103</td>\n",
       "      <td>0.413924</td>\n",
       "      <td>0.344547</td>\n",
       "      <td>0.593129</td>\n",
       "      <td>0.775207</td>\n",
       "      <td>0.477287</td>\n",
       "      <td>1.000000</td>\n",
       "    </tr>\n",
       "  </tbody>\n",
       "</table>\n",
       "</div>"
      ],
      "text/plain": [
       "                ED6      ED12      ED24  FFR_t0t1  FFR_t1t2  s_shocks  \\\n",
       "ED6        1.000000  0.904312  0.716194  0.315709  0.408392  0.963729   \n",
       "ED12       0.904312  1.000000  0.909652  0.275930  0.400897  0.978410   \n",
       "ED24       0.716194  0.909652  1.000000  0.179658  0.289374  0.859183   \n",
       "FFR_t0t1   0.315709  0.275930  0.179658  1.000000  0.778091  0.358134   \n",
       "FFR_t1t2   0.408392  0.400897  0.289374  0.778091  1.000000  0.476305   \n",
       "s_shocks   0.963729  0.978410  0.859183  0.358134  0.476305  1.000000   \n",
       "ns_shocks  0.422103  0.413924  0.344547  0.593129  0.775207  0.477287   \n",
       "\n",
       "           ns_shocks  \n",
       "ED6         0.422103  \n",
       "ED12        0.413924  \n",
       "ED24        0.344547  \n",
       "FFR_t0t1    0.593129  \n",
       "FFR_t1t2    0.775207  \n",
       "s_shocks    0.477287  \n",
       "ns_shocks   1.000000  "
      ]
     },
     "execution_count": 162,
     "metadata": {},
     "output_type": "execute_result"
    }
   ],
   "source": [
    "shock_df[shock_df.index < pd.Timestamp('2008-12-01')].corr()"
   ]
  },
  {
   "cell_type": "code",
   "execution_count": 163,
   "metadata": {},
   "outputs": [
    {
     "data": {
      "text/html": [
       "<div>\n",
       "<style scoped>\n",
       "    .dataframe tbody tr th:only-of-type {\n",
       "        vertical-align: middle;\n",
       "    }\n",
       "\n",
       "    .dataframe tbody tr th {\n",
       "        vertical-align: top;\n",
       "    }\n",
       "\n",
       "    .dataframe thead th {\n",
       "        text-align: right;\n",
       "    }\n",
       "</style>\n",
       "<table border=\"1\" class=\"dataframe\">\n",
       "  <thead>\n",
       "    <tr style=\"text-align: right;\">\n",
       "      <th></th>\n",
       "      <th>ED6</th>\n",
       "      <th>ED12</th>\n",
       "      <th>ED24</th>\n",
       "      <th>FFR_t0t1</th>\n",
       "      <th>FFR_t1t2</th>\n",
       "      <th>s_shocks</th>\n",
       "      <th>ns_shocks</th>\n",
       "    </tr>\n",
       "  </thead>\n",
       "  <tbody>\n",
       "    <tr>\n",
       "      <th>ED6</th>\n",
       "      <td>1.000000</td>\n",
       "      <td>0.838338</td>\n",
       "      <td>0.641419</td>\n",
       "      <td>0.171332</td>\n",
       "      <td>0.185451</td>\n",
       "      <td>0.907546</td>\n",
       "      <td>0.260041</td>\n",
       "    </tr>\n",
       "    <tr>\n",
       "      <th>ED12</th>\n",
       "      <td>0.838338</td>\n",
       "      <td>1.000000</td>\n",
       "      <td>0.897685</td>\n",
       "      <td>0.270796</td>\n",
       "      <td>0.251160</td>\n",
       "      <td>0.982106</td>\n",
       "      <td>0.353997</td>\n",
       "    </tr>\n",
       "    <tr>\n",
       "      <th>ED24</th>\n",
       "      <td>0.641419</td>\n",
       "      <td>0.897685</td>\n",
       "      <td>1.000000</td>\n",
       "      <td>0.306996</td>\n",
       "      <td>0.271771</td>\n",
       "      <td>0.891001</td>\n",
       "      <td>0.358628</td>\n",
       "    </tr>\n",
       "    <tr>\n",
       "      <th>FFR_t0t1</th>\n",
       "      <td>0.171332</td>\n",
       "      <td>0.270796</td>\n",
       "      <td>0.306996</td>\n",
       "      <td>1.000000</td>\n",
       "      <td>0.963495</td>\n",
       "      <td>0.285590</td>\n",
       "      <td>0.869288</td>\n",
       "    </tr>\n",
       "    <tr>\n",
       "      <th>FFR_t1t2</th>\n",
       "      <td>0.185451</td>\n",
       "      <td>0.251160</td>\n",
       "      <td>0.271771</td>\n",
       "      <td>0.963495</td>\n",
       "      <td>1.000000</td>\n",
       "      <td>0.274085</td>\n",
       "      <td>0.894324</td>\n",
       "    </tr>\n",
       "    <tr>\n",
       "      <th>s_shocks</th>\n",
       "      <td>0.907546</td>\n",
       "      <td>0.982106</td>\n",
       "      <td>0.891001</td>\n",
       "      <td>0.285590</td>\n",
       "      <td>0.274085</td>\n",
       "      <td>1.000000</td>\n",
       "      <td>0.365714</td>\n",
       "    </tr>\n",
       "    <tr>\n",
       "      <th>ns_shocks</th>\n",
       "      <td>0.260041</td>\n",
       "      <td>0.353997</td>\n",
       "      <td>0.358628</td>\n",
       "      <td>0.869288</td>\n",
       "      <td>0.894324</td>\n",
       "      <td>0.365714</td>\n",
       "      <td>1.000000</td>\n",
       "    </tr>\n",
       "  </tbody>\n",
       "</table>\n",
       "</div>"
      ],
      "text/plain": [
       "                ED6      ED12      ED24  FFR_t0t1  FFR_t1t2  s_shocks  \\\n",
       "ED6        1.000000  0.838338  0.641419  0.171332  0.185451  0.907546   \n",
       "ED12       0.838338  1.000000  0.897685  0.270796  0.251160  0.982106   \n",
       "ED24       0.641419  0.897685  1.000000  0.306996  0.271771  0.891001   \n",
       "FFR_t0t1   0.171332  0.270796  0.306996  1.000000  0.963495  0.285590   \n",
       "FFR_t1t2   0.185451  0.251160  0.271771  0.963495  1.000000  0.274085   \n",
       "s_shocks   0.907546  0.982106  0.891001  0.285590  0.274085  1.000000   \n",
       "ns_shocks  0.260041  0.353997  0.358628  0.869288  0.894324  0.365714   \n",
       "\n",
       "           ns_shocks  \n",
       "ED6         0.260041  \n",
       "ED12        0.353997  \n",
       "ED24        0.358628  \n",
       "FFR_t0t1    0.869288  \n",
       "FFR_t1t2    0.894324  \n",
       "s_shocks    0.365714  \n",
       "ns_shocks   1.000000  "
      ]
     },
     "execution_count": 163,
     "metadata": {},
     "output_type": "execute_result"
    }
   ],
   "source": [
    "shock_df[shock_df.index >= pd.Timestamp('2008-12-01')].corr()"
   ]
  }
 ],
 "metadata": {
  "kernelspec": {
   "display_name": "Python 3",
   "language": "python",
   "name": "python3"
  },
  "language_info": {
   "codemirror_mode": {
    "name": "ipython",
    "version": 3
   },
   "file_extension": ".py",
   "mimetype": "text/x-python",
   "name": "python",
   "nbconvert_exporter": "python",
   "pygments_lexer": "ipython3",
   "version": "3.7.1"
  }
 },
 "nbformat": 4,
 "nbformat_minor": 2
}
