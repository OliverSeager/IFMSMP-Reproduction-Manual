{
 "cells": [
  {
   "cell_type": "markdown",
   "metadata": {},
   "source": [
    "# 1.5 - Getting Quarterly Shock Series\n",
    "\n",
    "This script uses the individual meeting-day shocks to construct a quarterly monetary policy shock series for quarters starting in all months from April 1995 to October 2013\n",
    "\n",
    "Denoting the set of shocks $s_{t,i}$ which occur in quarter $t$ by $Q_t$ and the proportion of quarter $t$ that has elapsed when shock $s_{t,i}$ occurs by $\\delta_{t,i}$, each quarterly shock $\\gamma_t$ is given by...\n",
    "\n",
    "$$\\gamma_t = \\sum_{s_{t-1,i} \\in Q_{t-1}} \\delta_{t-1,i}s_{t-1,i} + \\sum_{s_{t,i} \\in Q_t} (1-\\delta_{t,i})s_{t,i} $$\n",
    "\n",
    "...following Gertler and Karadi (2015)."
   ]
  },
  {
   "cell_type": "markdown",
   "metadata": {},
   "source": [
    "### Preamble\n",
    "\n",
    "This script makes use of...\n",
    "\n",
    "- Pandas\n",
    "- NumPy"
   ]
  },
  {
   "cell_type": "code",
   "execution_count": 106,
   "metadata": {},
   "outputs": [],
   "source": [
    "import pandas as pd\n",
    "import numpy as np\n",
    "from pandas.tseries.offsets import DateOffset"
   ]
  },
  {
   "cell_type": "markdown",
   "metadata": {},
   "source": [
    "### Import Shocks, Including the Nakamura & Steinsson (2018) Series\n",
    "\n",
    "This block imports all 4 series"
   ]
  },
  {
   "cell_type": "code",
   "execution_count": 107,
   "metadata": {},
   "outputs": [],
   "source": [
    "shocks_df = pd.read_csv('purged_shocks.csv') # Import the shocks purged in 1.4\n",
    "\n",
    "shocks_df['Date'] = [pd.Timestamp(x) for x in shocks_df['Date']]\n",
    "\n",
    "shocks_df = shocks_df.set_index('Date')"
   ]
  },
  {
   "cell_type": "markdown",
   "metadata": {},
   "source": [
    "### Finding pre-Quarterisation Correlations between Series"
   ]
  },
  {
   "cell_type": "code",
   "execution_count": 108,
   "metadata": {},
   "outputs": [
    {
     "data": {
      "text/html": [
       "<div>\n",
       "<style scoped>\n",
       "    .dataframe tbody tr th:only-of-type {\n",
       "        vertical-align: middle;\n",
       "    }\n",
       "\n",
       "    .dataframe tbody tr th {\n",
       "        vertical-align: top;\n",
       "    }\n",
       "\n",
       "    .dataframe thead th {\n",
       "        text-align: right;\n",
       "    }\n",
       "</style>\n",
       "<table border=\"1\" class=\"dataframe\">\n",
       "  <thead>\n",
       "    <tr style=\"text-align: right;\">\n",
       "      <th></th>\n",
       "      <th>S_shocks</th>\n",
       "      <th>NS_shocks</th>\n",
       "      <th>S_shocks_raw</th>\n",
       "      <th>NS_shocks_raw</th>\n",
       "    </tr>\n",
       "  </thead>\n",
       "  <tbody>\n",
       "    <tr>\n",
       "      <th>S_shocks</th>\n",
       "      <td>1.000000</td>\n",
       "      <td>0.369997</td>\n",
       "      <td>0.907321</td>\n",
       "      <td>0.344912</td>\n",
       "    </tr>\n",
       "    <tr>\n",
       "      <th>NS_shocks</th>\n",
       "      <td>0.369997</td>\n",
       "      <td>1.000000</td>\n",
       "      <td>0.334198</td>\n",
       "      <td>0.934373</td>\n",
       "    </tr>\n",
       "    <tr>\n",
       "      <th>S_shocks_raw</th>\n",
       "      <td>0.907321</td>\n",
       "      <td>0.334198</td>\n",
       "      <td>1.000000</td>\n",
       "      <td>0.437455</td>\n",
       "    </tr>\n",
       "    <tr>\n",
       "      <th>NS_shocks_raw</th>\n",
       "      <td>0.344912</td>\n",
       "      <td>0.934373</td>\n",
       "      <td>0.437455</td>\n",
       "      <td>1.000000</td>\n",
       "    </tr>\n",
       "  </tbody>\n",
       "</table>\n",
       "</div>"
      ],
      "text/plain": [
       "               S_shocks  NS_shocks  S_shocks_raw  NS_shocks_raw\n",
       "S_shocks       1.000000   0.369997      0.907321       0.344912\n",
       "NS_shocks      0.369997   1.000000      0.334198       0.934373\n",
       "S_shocks_raw   0.907321   0.334198      1.000000       0.437455\n",
       "NS_shocks_raw  0.344912   0.934373      0.437455       1.000000"
      ]
     },
     "execution_count": 108,
     "metadata": {},
     "output_type": "execute_result"
    }
   ],
   "source": [
    "shocks_df.corr()"
   ]
  },
  {
   "cell_type": "code",
   "execution_count": 109,
   "metadata": {},
   "outputs": [
    {
     "data": {
      "text/html": [
       "<div>\n",
       "<style scoped>\n",
       "    .dataframe tbody tr th:only-of-type {\n",
       "        vertical-align: middle;\n",
       "    }\n",
       "\n",
       "    .dataframe tbody tr th {\n",
       "        vertical-align: top;\n",
       "    }\n",
       "\n",
       "    .dataframe thead th {\n",
       "        text-align: right;\n",
       "    }\n",
       "</style>\n",
       "<table border=\"1\" class=\"dataframe\">\n",
       "  <thead>\n",
       "    <tr style=\"text-align: right;\">\n",
       "      <th></th>\n",
       "      <th>S_shocks</th>\n",
       "      <th>NS_shocks</th>\n",
       "      <th>S_shocks_raw</th>\n",
       "      <th>NS_shocks_raw</th>\n",
       "    </tr>\n",
       "  </thead>\n",
       "  <tbody>\n",
       "    <tr>\n",
       "      <th>S_shocks</th>\n",
       "      <td>1.000000</td>\n",
       "      <td>0.396429</td>\n",
       "      <td>0.905792</td>\n",
       "      <td>0.372174</td>\n",
       "    </tr>\n",
       "    <tr>\n",
       "      <th>NS_shocks</th>\n",
       "      <td>0.396429</td>\n",
       "      <td>1.000000</td>\n",
       "      <td>0.387360</td>\n",
       "      <td>0.949566</td>\n",
       "    </tr>\n",
       "    <tr>\n",
       "      <th>S_shocks_raw</th>\n",
       "      <td>0.905792</td>\n",
       "      <td>0.387360</td>\n",
       "      <td>1.000000</td>\n",
       "      <td>0.477287</td>\n",
       "    </tr>\n",
       "    <tr>\n",
       "      <th>NS_shocks_raw</th>\n",
       "      <td>0.372174</td>\n",
       "      <td>0.949566</td>\n",
       "      <td>0.477287</td>\n",
       "      <td>1.000000</td>\n",
       "    </tr>\n",
       "  </tbody>\n",
       "</table>\n",
       "</div>"
      ],
      "text/plain": [
       "               S_shocks  NS_shocks  S_shocks_raw  NS_shocks_raw\n",
       "S_shocks       1.000000   0.396429      0.905792       0.372174\n",
       "NS_shocks      0.396429   1.000000      0.387360       0.949566\n",
       "S_shocks_raw   0.905792   0.387360      1.000000       0.477287\n",
       "NS_shocks_raw  0.372174   0.949566      0.477287       1.000000"
      ]
     },
     "execution_count": 109,
     "metadata": {},
     "output_type": "execute_result"
    }
   ],
   "source": [
    "shocks_df[shocks_df.index < pd.Timestamp('2008-12-01')].corr()"
   ]
  },
  {
   "cell_type": "code",
   "execution_count": 110,
   "metadata": {},
   "outputs": [
    {
     "data": {
      "text/html": [
       "<div>\n",
       "<style scoped>\n",
       "    .dataframe tbody tr th:only-of-type {\n",
       "        vertical-align: middle;\n",
       "    }\n",
       "\n",
       "    .dataframe tbody tr th {\n",
       "        vertical-align: top;\n",
       "    }\n",
       "\n",
       "    .dataframe thead th {\n",
       "        text-align: right;\n",
       "    }\n",
       "</style>\n",
       "<table border=\"1\" class=\"dataframe\">\n",
       "  <thead>\n",
       "    <tr style=\"text-align: right;\">\n",
       "      <th></th>\n",
       "      <th>S_shocks</th>\n",
       "      <th>NS_shocks</th>\n",
       "      <th>S_shocks_raw</th>\n",
       "      <th>NS_shocks_raw</th>\n",
       "    </tr>\n",
       "  </thead>\n",
       "  <tbody>\n",
       "    <tr>\n",
       "      <th>S_shocks</th>\n",
       "      <td>1.000000</td>\n",
       "      <td>0.342181</td>\n",
       "      <td>0.914596</td>\n",
       "      <td>0.307495</td>\n",
       "    </tr>\n",
       "    <tr>\n",
       "      <th>NS_shocks</th>\n",
       "      <td>0.342181</td>\n",
       "      <td>1.000000</td>\n",
       "      <td>0.212658</td>\n",
       "      <td>0.851939</td>\n",
       "    </tr>\n",
       "    <tr>\n",
       "      <th>S_shocks_raw</th>\n",
       "      <td>0.914596</td>\n",
       "      <td>0.212658</td>\n",
       "      <td>1.000000</td>\n",
       "      <td>0.365714</td>\n",
       "    </tr>\n",
       "    <tr>\n",
       "      <th>NS_shocks_raw</th>\n",
       "      <td>0.307495</td>\n",
       "      <td>0.851939</td>\n",
       "      <td>0.365714</td>\n",
       "      <td>1.000000</td>\n",
       "    </tr>\n",
       "  </tbody>\n",
       "</table>\n",
       "</div>"
      ],
      "text/plain": [
       "               S_shocks  NS_shocks  S_shocks_raw  NS_shocks_raw\n",
       "S_shocks       1.000000   0.342181      0.914596       0.307495\n",
       "NS_shocks      0.342181   1.000000      0.212658       0.851939\n",
       "S_shocks_raw   0.914596   0.212658      1.000000       0.365714\n",
       "NS_shocks_raw  0.307495   0.851939      0.365714       1.000000"
      ]
     },
     "execution_count": 110,
     "metadata": {},
     "output_type": "execute_result"
    }
   ],
   "source": [
    "shocks_df[shocks_df.index >= pd.Timestamp('2008-12-01')].corr()"
   ]
  },
  {
   "cell_type": "markdown",
   "metadata": {},
   "source": [
    "### Getting the Gertler and Karadi (2015) Coefficients for Each Meeting Date\n",
    "\n",
    "This block establishes the proportion of each meeting-day shock that will contribute to shock corresponding to the quarter in which it occurs, and the shock corresponding to the quarter that follows."
   ]
  },
  {
   "cell_type": "code",
   "execution_count": 111,
   "metadata": {},
   "outputs": [],
   "source": [
    "## Get all quarter starts from 1994Dec to 2014Jan inclusive. Although quarterly shocks are constructed only for 1995Apr to 2013Oct, the method of summation is easier to carry out when an extra quarter either side of this period is included and then dropped post-calculation.\n",
    "\n",
    "quarter_starts = [pd.Timestamp('1994-12-01') + DateOffset(months = m) for m in range(0,232)] \n",
    "\n",
    "## Initialise Dataframe\n",
    "\n",
    "quarter_shocks_df = pd.DataFrame(index = quarter_starts)\n",
    "\n",
    "ante1_dates = []\n",
    "\n",
    "ante1_coefs = []\n",
    "\n",
    "ante2_dates = []\n",
    "\n",
    "ante2_coefs = []\n",
    "\n",
    "ante3_dates = []\n",
    "\n",
    "ante3_coefs = []\n",
    "\n",
    "post1_dates = []\n",
    "\n",
    "post1_coefs = []\n",
    "\n",
    "post2_dates = []\n",
    "\n",
    "post2_coefs = []\n",
    "\n",
    "post3_dates = []\n",
    "\n",
    "post3_coefs = []\n",
    "\n",
    "for date in shocks_df.index:\n",
    "    \n",
    "    # This establishes a Boolean for all month starts 3 months either side of the meeting date.\n",
    "    \n",
    "    b = (quarter_shocks_df.index <= date + DateOffset(months = 3))*(quarter_shocks_df.index > date + DateOffset(months = -3))\n",
    "    \n",
    "    ante1, ante2, ante3, post1, post2, post3 = quarter_shocks_df.loc[b].index # 'ante' is current quarter start and 'post' is next quarter start\n",
    "    \n",
    "    ante1_dates.append(ante1)\n",
    "    \n",
    "    ante2_dates.append(ante2)\n",
    "    \n",
    "    ante3_dates.append(ante3)\n",
    "    \n",
    "    post1_dates.append(post1)\n",
    "    \n",
    "    post2_dates.append(post2)\n",
    "    \n",
    "    post3_dates.append(post3)\n",
    "    \n",
    "    ante1_coef = 1 - (date - ante1).days/(post1 - ante1).days # proportion of quarter that has elapsed \n",
    "    \n",
    "    ante1_coefs.append(ante1_coef)\n",
    "    \n",
    "    ante2_coef = 1 - (date - ante2).days/(post2 - ante2).days\n",
    "    \n",
    "    ante2_coefs.append(ante2_coef)\n",
    "    \n",
    "    ante3_coef = 1 - (date - ante3).days/(post3 - ante3).days\n",
    "    \n",
    "    ante3_coefs.append(ante3_coef)\n",
    "    \n",
    "    post1_coef = 1 - ante1_coef # proportion of quarter that is yet to elapse.\n",
    "    \n",
    "    post1_coefs.append(post1_coef)\n",
    "    \n",
    "    post2_coef = 1 - ante2_coef\n",
    "    \n",
    "    post2_coefs.append(post2_coef)\n",
    "    \n",
    "    post3_coef = 1 - ante3_coef\n",
    "    \n",
    "    post3_coefs.append(post3_coef)\n",
    "\n",
    "shocks_df['ante1_date'] = ante1_dates\n",
    "\n",
    "shocks_df['ante1_coef'] = ante1_coefs\n",
    "\n",
    "shocks_df['ante2_date'] = ante2_dates\n",
    "\n",
    "shocks_df['ante2_coef'] = ante2_coefs\n",
    "\n",
    "shocks_df['ante3_date'] = ante3_dates\n",
    "\n",
    "shocks_df['ante3_coef'] = ante3_coefs\n",
    "\n",
    "shocks_df['post1_date'] = post1_dates\n",
    "\n",
    "shocks_df['post1_coef'] = post1_coefs\n",
    "\n",
    "shocks_df['post2_date'] = post2_dates\n",
    "\n",
    "shocks_df['post2_coef'] = post2_coefs\n",
    "\n",
    "shocks_df['post3_date'] = post3_dates\n",
    "\n",
    "shocks_df['post3_coef'] = post3_coefs"
   ]
  },
  {
   "cell_type": "markdown",
   "metadata": {},
   "source": [
    "### Establishing the Quarterly Shocks\n",
    "\n",
    "This block carries builds the 3 quarterly shock series by carrying out the summation described above."
   ]
  },
  {
   "cell_type": "code",
   "execution_count": 112,
   "metadata": {},
   "outputs": [],
   "source": [
    "quarter_shocks_df['s_shock_p'] = np.zeros(len(quarter_shocks_df.index))\n",
    "\n",
    "quarter_shocks_df['s_shock_r'] = np.zeros(len(quarter_shocks_df.index))\n",
    "\n",
    "quarter_shocks_df['ns_shock_p'] = np.zeros(len(quarter_shocks_df.index))\n",
    "\n",
    "quarter_shocks_df['ns_shock_r'] = np.zeros(len(quarter_shocks_df.index))\n",
    "\n",
    "for qdate in quarter_shocks_df.index: # Loops through quarter starts\n",
    "    \n",
    "    for sdate in shocks_df.index: # Loops through meeting dates\n",
    "        \n",
    "        if shocks_df.loc[sdate,'ante1_date'] == qdate: # True if quarter start corresponds to quarter in which meeting occurs\n",
    "            \n",
    "            quarter_shocks_df.loc[qdate,'s_shock_p'] = (quarter_shocks_df.loc[qdate,'s_shock_p'] + shocks_df.loc[sdate,'S_shocks']*shocks_df.loc[sdate,'ante1_coef'])\n",
    "            \n",
    "            quarter_shocks_df.loc[qdate,'ns_shock_p'] = (quarter_shocks_df.loc[qdate,'ns_shock_p'] + shocks_df.loc[sdate,'NS_shocks']*shocks_df.loc[sdate,'ante1_coef'])\n",
    "            \n",
    "            quarter_shocks_df.loc[qdate,'s_shock_r'] = (quarter_shocks_df.loc[qdate,'s_shock_r'] + shocks_df.loc[sdate,'S_shocks_raw']*shocks_df.loc[sdate,'ante1_coef'])\n",
    "            \n",
    "            quarter_shocks_df.loc[qdate,'ns_shock_r'] = (quarter_shocks_df.loc[qdate,'ns_shock_r'] + shocks_df.loc[sdate,'NS_shocks_raw']*shocks_df.loc[sdate,'ante1_coef'])\n",
    "        \n",
    "        elif shocks_df.loc[sdate,'ante2_date'] == qdate: \n",
    "            \n",
    "            quarter_shocks_df.loc[qdate,'s_shock_p'] = (quarter_shocks_df.loc[qdate,'s_shock_p'] + shocks_df.loc[sdate,'S_shocks']*shocks_df.loc[sdate,'ante2_coef'])\n",
    "            \n",
    "            quarter_shocks_df.loc[qdate,'ns_shock_p'] = (quarter_shocks_df.loc[qdate,'ns_shock_p'] + shocks_df.loc[sdate,'NS_shocks']*shocks_df.loc[sdate,'ante2_coef'])\n",
    "            \n",
    "            quarter_shocks_df.loc[qdate,'s_shock_r'] = (quarter_shocks_df.loc[qdate,'s_shock_r'] + shocks_df.loc[sdate,'S_shocks_raw']*shocks_df.loc[sdate,'ante2_coef'])\n",
    "            \n",
    "            quarter_shocks_df.loc[qdate,'ns_shock_r'] = (quarter_shocks_df.loc[qdate,'ns_shock_r'] + shocks_df.loc[sdate,'NS_shocks_raw']*shocks_df.loc[sdate,'ante2_coef'])\n",
    "        \n",
    "        elif shocks_df.loc[sdate,'ante3_date'] == qdate: \n",
    "            \n",
    "            quarter_shocks_df.loc[qdate,'s_shock_p'] = (quarter_shocks_df.loc[qdate,'s_shock_p'] + shocks_df.loc[sdate,'S_shocks']*shocks_df.loc[sdate,'ante3_coef'])\n",
    "            \n",
    "            quarter_shocks_df.loc[qdate,'ns_shock_p'] = (quarter_shocks_df.loc[qdate,'ns_shock_p'] + shocks_df.loc[sdate,'NS_shocks']*shocks_df.loc[sdate,'ante3_coef'])\n",
    "            \n",
    "            quarter_shocks_df.loc[qdate,'s_shock_r'] = (quarter_shocks_df.loc[qdate,'s_shock_r'] + shocks_df.loc[sdate,'S_shocks_raw']*shocks_df.loc[sdate,'ante3_coef'])\n",
    "            \n",
    "            quarter_shocks_df.loc[qdate,'ns_shock_r'] = (quarter_shocks_df.loc[qdate,'ns_shock_r'] + shocks_df.loc[sdate,'NS_shocks_raw']*shocks_df.loc[sdate,'ante3_coef'])\n",
    "            \n",
    "        elif shocks_df.loc[sdate,'post1_date'] == qdate: # True if quarter start corresponds to quarter after that in which meeting occurs\n",
    "                \n",
    "            quarter_shocks_df.loc[qdate,'s_shock_p'] = (quarter_shocks_df.loc[qdate,'s_shock_p'] + shocks_df.loc[sdate,'S_shocks']*shocks_df.loc[sdate,'post1_coef'])\n",
    "            \n",
    "            quarter_shocks_df.loc[qdate,'ns_shock_p'] = (quarter_shocks_df.loc[qdate,'ns_shock_p'] + shocks_df.loc[sdate,'NS_shocks']*shocks_df.loc[sdate,'post1_coef'])\n",
    "            \n",
    "            quarter_shocks_df.loc[qdate,'s_shock_r'] = (quarter_shocks_df.loc[qdate,'s_shock_r'] + shocks_df.loc[sdate,'S_shocks_raw']*shocks_df.loc[sdate,'post1_coef'])\n",
    "            \n",
    "            quarter_shocks_df.loc[qdate,'ns_shock_r'] = (quarter_shocks_df.loc[qdate,'ns_shock_r'] + shocks_df.loc[sdate,'NS_shocks_raw']*shocks_df.loc[sdate,'post1_coef'])\n",
    "        \n",
    "        elif shocks_df.loc[sdate,'post2_date'] == qdate: \n",
    "                \n",
    "            quarter_shocks_df.loc[qdate,'s_shock_p'] = (quarter_shocks_df.loc[qdate,'s_shock_p'] + shocks_df.loc[sdate,'S_shocks']*shocks_df.loc[sdate,'post2_coef'])\n",
    "            \n",
    "            quarter_shocks_df.loc[qdate,'ns_shock_p'] = (quarter_shocks_df.loc[qdate,'ns_shock_p'] + shocks_df.loc[sdate,'NS_shocks']*shocks_df.loc[sdate,'post2_coef'])\n",
    "            \n",
    "            quarter_shocks_df.loc[qdate,'s_shock_r'] = (quarter_shocks_df.loc[qdate,'s_shock_r'] + shocks_df.loc[sdate,'S_shocks_raw']*shocks_df.loc[sdate,'post2_coef'])\n",
    "            \n",
    "            quarter_shocks_df.loc[qdate,'ns_shock_r'] = (quarter_shocks_df.loc[qdate,'ns_shock_r'] + shocks_df.loc[sdate,'NS_shocks_raw']*shocks_df.loc[sdate,'post2_coef'])\n",
    "        \n",
    "        elif shocks_df.loc[sdate,'post3_date'] == qdate: \n",
    "                \n",
    "            quarter_shocks_df.loc[qdate,'s_shock_p'] = (quarter_shocks_df.loc[qdate,'s_shock_p'] + shocks_df.loc[sdate,'S_shocks']*shocks_df.loc[sdate,'post3_coef'])\n",
    "            \n",
    "            quarter_shocks_df.loc[qdate,'ns_shock_p'] = (quarter_shocks_df.loc[qdate,'ns_shock_p'] + shocks_df.loc[sdate,'NS_shocks']*shocks_df.loc[sdate,'post3_coef'])\n",
    "            \n",
    "            quarter_shocks_df.loc[qdate,'s_shock_r'] = (quarter_shocks_df.loc[qdate,'s_shock_r'] + shocks_df.loc[sdate,'S_shocks_raw']*shocks_df.loc[sdate,'post3_coef'])\n",
    "            \n",
    "            quarter_shocks_df.loc[qdate,'ns_shock_r'] = (quarter_shocks_df.loc[qdate,'ns_shock_r'] + shocks_df.loc[sdate,'NS_shocks_raw']*shocks_df.loc[sdate,'post3_coef'])\n",
    "            \n",
    "quarter_shocks_df = quarter_shocks_df.drop(index = quarter_shocks_df.index[:4])\n",
    "\n",
    "quarter_shocks_df = quarter_shocks_df.drop(index = quarter_shocks_df.index[-5:])"
   ]
  },
  {
   "cell_type": "markdown",
   "metadata": {},
   "source": [
    "### Finding post-Quarterisation Correlations"
   ]
  },
  {
   "cell_type": "code",
   "execution_count": 113,
   "metadata": {},
   "outputs": [
    {
     "data": {
      "text/html": [
       "<div>\n",
       "<style scoped>\n",
       "    .dataframe tbody tr th:only-of-type {\n",
       "        vertical-align: middle;\n",
       "    }\n",
       "\n",
       "    .dataframe tbody tr th {\n",
       "        vertical-align: top;\n",
       "    }\n",
       "\n",
       "    .dataframe thead th {\n",
       "        text-align: right;\n",
       "    }\n",
       "</style>\n",
       "<table border=\"1\" class=\"dataframe\">\n",
       "  <thead>\n",
       "    <tr style=\"text-align: right;\">\n",
       "      <th></th>\n",
       "      <th>s_shock_p</th>\n",
       "      <th>s_shock_r</th>\n",
       "      <th>ns_shock_p</th>\n",
       "      <th>ns_shock_r</th>\n",
       "    </tr>\n",
       "  </thead>\n",
       "  <tbody>\n",
       "    <tr>\n",
       "      <th>s_shock_p</th>\n",
       "      <td>1.000000</td>\n",
       "      <td>0.905644</td>\n",
       "      <td>0.288138</td>\n",
       "      <td>0.240508</td>\n",
       "    </tr>\n",
       "    <tr>\n",
       "      <th>s_shock_r</th>\n",
       "      <td>0.905644</td>\n",
       "      <td>1.000000</td>\n",
       "      <td>0.285256</td>\n",
       "      <td>0.383943</td>\n",
       "    </tr>\n",
       "    <tr>\n",
       "      <th>ns_shock_p</th>\n",
       "      <td>0.288138</td>\n",
       "      <td>0.285256</td>\n",
       "      <td>1.000000</td>\n",
       "      <td>0.911474</td>\n",
       "    </tr>\n",
       "    <tr>\n",
       "      <th>ns_shock_r</th>\n",
       "      <td>0.240508</td>\n",
       "      <td>0.383943</td>\n",
       "      <td>0.911474</td>\n",
       "      <td>1.000000</td>\n",
       "    </tr>\n",
       "  </tbody>\n",
       "</table>\n",
       "</div>"
      ],
      "text/plain": [
       "            s_shock_p  s_shock_r  ns_shock_p  ns_shock_r\n",
       "s_shock_p    1.000000   0.905644    0.288138    0.240508\n",
       "s_shock_r    0.905644   1.000000    0.285256    0.383943\n",
       "ns_shock_p   0.288138   0.285256    1.000000    0.911474\n",
       "ns_shock_r   0.240508   0.383943    0.911474    1.000000"
      ]
     },
     "execution_count": 113,
     "metadata": {},
     "output_type": "execute_result"
    }
   ],
   "source": [
    "quarter_shocks_df.corr()"
   ]
  },
  {
   "cell_type": "code",
   "execution_count": 114,
   "metadata": {},
   "outputs": [
    {
     "data": {
      "text/html": [
       "<div>\n",
       "<style scoped>\n",
       "    .dataframe tbody tr th:only-of-type {\n",
       "        vertical-align: middle;\n",
       "    }\n",
       "\n",
       "    .dataframe tbody tr th {\n",
       "        vertical-align: top;\n",
       "    }\n",
       "\n",
       "    .dataframe thead th {\n",
       "        text-align: right;\n",
       "    }\n",
       "</style>\n",
       "<table border=\"1\" class=\"dataframe\">\n",
       "  <thead>\n",
       "    <tr style=\"text-align: right;\">\n",
       "      <th></th>\n",
       "      <th>s_shock_p</th>\n",
       "      <th>s_shock_r</th>\n",
       "      <th>ns_shock_p</th>\n",
       "      <th>ns_shock_r</th>\n",
       "    </tr>\n",
       "  </thead>\n",
       "  <tbody>\n",
       "    <tr>\n",
       "      <th>s_shock_p</th>\n",
       "      <td>1.000000</td>\n",
       "      <td>0.881634</td>\n",
       "      <td>0.363973</td>\n",
       "      <td>0.288475</td>\n",
       "    </tr>\n",
       "    <tr>\n",
       "      <th>s_shock_r</th>\n",
       "      <td>0.881634</td>\n",
       "      <td>1.000000</td>\n",
       "      <td>0.363664</td>\n",
       "      <td>0.445181</td>\n",
       "    </tr>\n",
       "    <tr>\n",
       "      <th>ns_shock_p</th>\n",
       "      <td>0.363973</td>\n",
       "      <td>0.363664</td>\n",
       "      <td>1.000000</td>\n",
       "      <td>0.923191</td>\n",
       "    </tr>\n",
       "    <tr>\n",
       "      <th>ns_shock_r</th>\n",
       "      <td>0.288475</td>\n",
       "      <td>0.445181</td>\n",
       "      <td>0.923191</td>\n",
       "      <td>1.000000</td>\n",
       "    </tr>\n",
       "  </tbody>\n",
       "</table>\n",
       "</div>"
      ],
      "text/plain": [
       "            s_shock_p  s_shock_r  ns_shock_p  ns_shock_r\n",
       "s_shock_p    1.000000   0.881634    0.363973    0.288475\n",
       "s_shock_r    0.881634   1.000000    0.363664    0.445181\n",
       "ns_shock_p   0.363973   0.363664    1.000000    0.923191\n",
       "ns_shock_r   0.288475   0.445181    0.923191    1.000000"
      ]
     },
     "execution_count": 114,
     "metadata": {},
     "output_type": "execute_result"
    }
   ],
   "source": [
    "quarter_shocks_df[quarter_shocks_df.index < pd.Timestamp('2008-12-01')].corr()"
   ]
  },
  {
   "cell_type": "code",
   "execution_count": 115,
   "metadata": {},
   "outputs": [
    {
     "data": {
      "text/html": [
       "<div>\n",
       "<style scoped>\n",
       "    .dataframe tbody tr th:only-of-type {\n",
       "        vertical-align: middle;\n",
       "    }\n",
       "\n",
       "    .dataframe tbody tr th {\n",
       "        vertical-align: top;\n",
       "    }\n",
       "\n",
       "    .dataframe thead th {\n",
       "        text-align: right;\n",
       "    }\n",
       "</style>\n",
       "<table border=\"1\" class=\"dataframe\">\n",
       "  <thead>\n",
       "    <tr style=\"text-align: right;\">\n",
       "      <th></th>\n",
       "      <th>s_shock_p</th>\n",
       "      <th>s_shock_r</th>\n",
       "      <th>ns_shock_p</th>\n",
       "      <th>ns_shock_r</th>\n",
       "    </tr>\n",
       "  </thead>\n",
       "  <tbody>\n",
       "    <tr>\n",
       "      <th>s_shock_p</th>\n",
       "      <td>1.000000</td>\n",
       "      <td>0.953639</td>\n",
       "      <td>0.099945</td>\n",
       "      <td>0.147099</td>\n",
       "    </tr>\n",
       "    <tr>\n",
       "      <th>s_shock_r</th>\n",
       "      <td>0.953639</td>\n",
       "      <td>1.000000</td>\n",
       "      <td>0.124123</td>\n",
       "      <td>0.274341</td>\n",
       "    </tr>\n",
       "    <tr>\n",
       "      <th>ns_shock_p</th>\n",
       "      <td>0.099945</td>\n",
       "      <td>0.124123</td>\n",
       "      <td>1.000000</td>\n",
       "      <td>0.877663</td>\n",
       "    </tr>\n",
       "    <tr>\n",
       "      <th>ns_shock_r</th>\n",
       "      <td>0.147099</td>\n",
       "      <td>0.274341</td>\n",
       "      <td>0.877663</td>\n",
       "      <td>1.000000</td>\n",
       "    </tr>\n",
       "  </tbody>\n",
       "</table>\n",
       "</div>"
      ],
      "text/plain": [
       "            s_shock_p  s_shock_r  ns_shock_p  ns_shock_r\n",
       "s_shock_p    1.000000   0.953639    0.099945    0.147099\n",
       "s_shock_r    0.953639   1.000000    0.124123    0.274341\n",
       "ns_shock_p   0.099945   0.124123    1.000000    0.877663\n",
       "ns_shock_r   0.147099   0.274341    0.877663    1.000000"
      ]
     },
     "execution_count": 115,
     "metadata": {},
     "output_type": "execute_result"
    }
   ],
   "source": [
    "quarter_shocks_df[quarter_shocks_df.index >= pd.Timestamp('2008-12-01')].corr()"
   ]
  },
  {
   "cell_type": "markdown",
   "metadata": {},
   "source": [
    "### Export to *.csv*"
   ]
  },
  {
   "cell_type": "code",
   "execution_count": 116,
   "metadata": {},
   "outputs": [],
   "source": [
    "quarter_shocks_df.to_csv('quarter_shocks.csv')"
   ]
  },
  {
   "cell_type": "markdown",
   "metadata": {},
   "source": [
    "### Producing Figure 3\n",
    "\n",
    "This block takes \"baseline\" quarters - those starting in January, April, July and October - for both my purged series and that of Nakamura and Steinsson and produces a bar chart depicting each."
   ]
  },
  {
   "cell_type": "code",
   "execution_count": 117,
   "metadata": {},
   "outputs": [
    {
     "data": {
      "image/png": "[encoded data removed]",
      "text/plain": [
       "<Figure size 720x360 with 1 Axes>"
      ]
     },
     "metadata": {
      "needs_background": "light"
     },
     "output_type": "display_data"
    }
   ],
   "source": [
    "graph_shocks_df = quarter_shocks_df.loc[[pd.Timestamp('1995-04-01') + DateOffset(months = m) for m in range(0,223,3)]]\n",
    "\n",
    "from matplotlib import pyplot as plt\n",
    "\n",
    "y1 = -1*graph_shocks_df.s_shock_p.values/np.abs(graph_shocks_df.s_shock_p.values).mean()\n",
    "\n",
    "x1 = graph_shocks_df.index + pd.DateOffset(days = -18)\n",
    "\n",
    "y2 = -1*graph_shocks_df.ns_shock_p.values/np.abs(graph_shocks_df.ns_shock_p.values).mean()\n",
    "\n",
    "x2 = graph_shocks_df.index + pd.DateOffset(days = 18)\n",
    "\n",
    "fig = plt.figure(figsize = (10,5))\n",
    "\n",
    "plt.bar(x1,y1, width = 25, color = 'b')\n",
    "\n",
    "plt.bar(x2,y2, width = 25, color = 'orange')\n",
    "\n",
    "plt.ylabel('Shock')\n",
    "\n",
    "plt.gca().spines['right'].set_visible(False)\n",
    "plt.gca().spines['top'].set_visible(False)\n",
    "\n",
    "plt.show()"
   ]
  },
  {
   "cell_type": "markdown",
   "metadata": {},
   "source": [
    "### Number of Quarters in which Signs of Daily Date Series and Nakamura and Steinsson (2018) Series Differ "
   ]
  },
  {
   "cell_type": "code",
   "execution_count": 118,
   "metadata": {},
   "outputs": [
    {
     "data": {
      "text/plain": [
       "52"
      ]
     },
     "execution_count": 118,
     "metadata": {},
     "output_type": "execute_result"
    }
   ],
   "source": [
    "sum(shocks_df.S_shocks.values*shocks_df.NS_shocks.values < 0)"
   ]
  }
 ],
 "metadata": {
  "kernelspec": {
   "display_name": "Python 3",
   "language": "python",
   "name": "python3"
  },
  "language_info": {
   "codemirror_mode": {
    "name": "ipython",
    "version": 3
   },
   "file_extension": ".py",
   "mimetype": "text/x-python",
   "name": "python",
   "nbconvert_exporter": "python",
   "pygments_lexer": "ipython3",
   "version": "3.7.1"
  }
 },
 "nbformat": 4,
 "nbformat_minor": 2
}
