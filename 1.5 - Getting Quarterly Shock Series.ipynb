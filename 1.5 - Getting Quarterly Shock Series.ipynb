{
 "cells": [
  {
   "cell_type": "markdown",
   "metadata": {},
   "source": [
    "# 1.5 - Getting Quarterly Shock Series\n",
    "\n",
    "This script uses the individual meeting-day shocks to construct a quarterly monetary policy shock series compatible with quarterly firm-level accounting data. \n",
    "\n",
    "Denoting the set of shocks $s_{t,i}$ which occur in quarter $t$ by $Q_t$ and the proportion of quarter $t$ that has elapsed when shock $s_{t,i}$ occurs by $\\delta_{t,i}$, each quarterly shock $\\gamma_t$ is given by...\n",
    "\n",
    "$$\\gamma_t = \\sum_{s_{t-1,i} \\in Q_{t-1}} \\delta_{t-1,i}s_{t-1,i} + \\sum_{s_{t,i} \\in Q_t} (1-\\delta_{t,i})s_{t,i} $$\n",
    "\n",
    "...following Gertler and Karadi (2015)."
   ]
  },
  {
   "cell_type": "markdown",
   "metadata": {},
   "source": [
    "### Preamble\n",
    "\n",
    "This script makes use of...\n",
    "\n",
    "- Pandas\n",
    "- NumPy"
   ]
  },
  {
   "cell_type": "code",
   "execution_count": 9,
   "metadata": {},
   "outputs": [],
   "source": [
    "import pandas as pd\n",
    "import numpy as np\n",
    "from pandas.tseries.offsets import DateOffset"
   ]
  },
  {
   "cell_type": "markdown",
   "metadata": {},
   "source": [
    "### Import Shocks, Including the Nakamura & Steinsson (2018) Series\n",
    "\n",
    "This block gets all 4 series into the same dataframe, with only common dates amongst the 4. "
   ]
  },
  {
   "cell_type": "code",
   "execution_count": 10,
   "metadata": {},
   "outputs": [],
   "source": [
    "shocks_df = pd.read_csv('purged_shocks.csv') # Import the shocks purged in 1.4\n",
    "\n",
    "ns_df = pd.read_excel('NS_Shocks.xlsx') # Get the Nakamura-Steinsson shock series\n",
    "\n",
    "ns_df = ns_df.rename(columns = {'date_daily':'Date','policy_news_shocks':'NS_shocks'})\n",
    "\n",
    "ns_df = ns_df.drop(columns = ['day','month','year','unscheduled_meetings','FFR_shock'])\n",
    "\n",
    "shocks_df['Date'] = [pd.Timestamp(x) for x in shocks_df['Date']]\n",
    "\n",
    "shocks_df = shocks_df.merge(ns_df, on = 'Date') # Merge the dataframes - this automatically drops any dates which do not feature\n",
    "                                                # in all series\n",
    "shocks_df = shocks_df.set_index('Date')"
   ]
  },
  {
   "cell_type": "markdown",
   "metadata": {},
   "source": [
    "### Getting the Gertler and Karadi (2015) Coefficients for Each Meeting Date\n",
    "\n",
    "This block establishes the proportion of each meeting-day shock that will contribute to shock corresponding to the quarter in which it occurs, and the shock corresponding to the quarter that follows."
   ]
  },
  {
   "cell_type": "code",
   "execution_count": 11,
   "metadata": {},
   "outputs": [],
   "source": [
    "## Get all quarter starts from 1995Q1 to 2014Q1 inclusive. Although quarterly shocks are constructed only for 1995Q2 to 2013Q4,\n",
    "## the method of summation is easier to carry out when an extra quarter either side of this period is included and then dropped\n",
    "## post-calculation.\n",
    "\n",
    "quarter_starts = [pd.Timestamp('1995-01-01') + DateOffset(months = m) for m in range(0,230,3)] \n",
    "\n",
    "## Initialise dataframe\n",
    "\n",
    "quarter_shocks_df = pd.DataFrame(index = quarter_starts)\n",
    "\n",
    "ante_dates = []\n",
    "\n",
    "ante_coefs = []\n",
    "\n",
    "post_dates = []\n",
    "\n",
    "post_coefs = []\n",
    "\n",
    "for date in shocks_df.index:\n",
    "    \n",
    "    # This establishes a Boolean for all quarter dates 3 months either side of the meeting date.\n",
    "    \n",
    "    b = (quarter_shocks_df.index <= date + DateOffset(months = 3))*(quarter_shocks_df.index > date + DateOffset(months = -3))\n",
    "    \n",
    "    ante, post = quarter_shocks_df.loc[b].index # 'ante' is current quarter start and 'post' is next quarter start\n",
    "    \n",
    "    ante_dates.append(ante)\n",
    "    \n",
    "    post_dates.append(post)\n",
    "    \n",
    "    ante_coef = (date - ante).days/(post - ante).days # proportion of quarter that has elapsed \n",
    "    \n",
    "    ante_coefs.append(ante_coef)\n",
    "    \n",
    "    post_coef = 1 - ante_coef # proportion of quarter that is yet to elapse.\n",
    "    \n",
    "    post_coefs.append(post_coef)\n",
    "    \n",
    "shocks_df['ante_date'] = ante_dates\n",
    "\n",
    "shocks_df['ante_coef'] = ante_coefs\n",
    "\n",
    "shocks_df['post_date'] = post_dates\n",
    "\n",
    "shocks_df['post_coef'] = post_coefs"
   ]
  },
  {
   "cell_type": "markdown",
   "metadata": {},
   "source": [
    "### Establishing the Quarterly Shocks\n",
    "\n",
    "This block carries builds the 4 quarterly shock series by carrying out the summation described above."
   ]
  },
  {
   "cell_type": "code",
   "execution_count": 12,
   "metadata": {},
   "outputs": [],
   "source": [
    "quarter_shocks_df['s_shock'] = np.zeros(len(quarter_shocks_df.index))\n",
    "\n",
    "quarter_shocks_df['ma_shock'] = np.zeros(len(quarter_shocks_df.index))\n",
    "\n",
    "quarter_shocks_df['full_shock'] = np.zeros(len(quarter_shocks_df.index))\n",
    "\n",
    "quarter_shocks_df['ns_shock'] = np.zeros(len(quarter_shocks_df.index))\n",
    "\n",
    "for qdate in quarter_shocks_df.index: # Loops through quarter starts\n",
    "    \n",
    "    for sdate in shocks_df.index: # Loops through meeting dates\n",
    "        \n",
    "        if shocks_df.loc[sdate,'ante_date'] == qdate: # True if quarter start corresponds to quarter in which meeting occurs\n",
    "            \n",
    "            quarter_shocks_df.loc[qdate,'s_shock'] = (quarter_shocks_df.loc[qdate,'s_shock']\n",
    "                                                      + shocks_df.loc[sdate,'S_shocks']*shocks_df.loc[sdate,'ante_coef'])\n",
    "            \n",
    "            quarter_shocks_df.loc[qdate,'ma_shock'] = (quarter_shocks_df.loc[qdate,'ma_shock']\n",
    "                                                      + shocks_df.loc[sdate,'MA_shocks']*shocks_df.loc[sdate,'ante_coef'])\n",
    "            \n",
    "            quarter_shocks_df.loc[qdate,'ns_shock'] = (quarter_shocks_df.loc[qdate,'ns_shock']\n",
    "                                                      + shocks_df.loc[sdate,'NS_shocks']*shocks_df.loc[sdate,'ante_coef'])\n",
    "            \n",
    "            quarter_shocks_df.loc[qdate,'full_shock'] = (quarter_shocks_df.loc[qdate,'full_shock']\n",
    "                                                      + shocks_df.loc[sdate,'full_shocks']*shocks_df.loc[sdate,'ante_coef'])\n",
    "            \n",
    "        elif shocks_df.loc[sdate,'post_date'] == qdate: # True if quarter start corresponds to quarter after that in which \n",
    "                                                        # meeting occurs\n",
    "                \n",
    "            quarter_shocks_df.loc[qdate,'s_shock'] = (quarter_shocks_df.loc[qdate,'s_shock']\n",
    "                                                      + shocks_df.loc[sdate,'S_shocks']*shocks_df.loc[sdate,'post_coef'])\n",
    "            \n",
    "            quarter_shocks_df.loc[qdate,'ma_shock'] = (quarter_shocks_df.loc[qdate,'ma_shock']\n",
    "                                                      + shocks_df.loc[sdate,'MA_shocks']*shocks_df.loc[sdate,'post_coef'])\n",
    "            \n",
    "            quarter_shocks_df.loc[qdate,'ns_shock'] = (quarter_shocks_df.loc[qdate,'ns_shock']\n",
    "                                                      + shocks_df.loc[sdate,'NS_shocks']*shocks_df.loc[sdate,'post_coef'])\n",
    "            \n",
    "            quarter_shocks_df.loc[qdate,'full_shock'] = (quarter_shocks_df.loc[qdate,'full_shock']\n",
    "                                                      + shocks_df.loc[sdate,'full_shocks']*shocks_df.loc[sdate,'post_coef'])\n",
    "            \n",
    "## Drop extraneous quarters either side of the period of interest\n",
    "            \n",
    "quarter_shocks_df = quarter_shocks_df.drop(index = [quarter_shocks_df.index[0],quarter_shocks_df.index[-1]])"
   ]
  },
  {
   "cell_type": "markdown",
   "metadata": {},
   "source": [
    "### Export to *.csv*"
   ]
  },
  {
   "cell_type": "code",
   "execution_count": 13,
   "metadata": {},
   "outputs": [],
   "source": [
    "quarter_shocks_df.to_csv(\"quarter_shocks.csv\")"
   ]
  }
 ],
 "metadata": {
  "kernelspec": {
   "display_name": "Python 3",
   "language": "python",
   "name": "python3"
  },
  "language_info": {
   "codemirror_mode": {
    "name": "ipython",
    "version": 3
   },
   "file_extension": ".py",
   "mimetype": "text/x-python",
   "name": "python",
   "nbconvert_exporter": "python",
   "pygments_lexer": "ipython3",
   "version": "3.7.1"
  }
 },
 "nbformat": 4,
 "nbformat_minor": 2
}
