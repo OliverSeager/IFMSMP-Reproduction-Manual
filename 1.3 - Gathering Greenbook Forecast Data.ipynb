{
 "cells": [
  {
   "cell_type": "markdown",
   "metadata": {},
   "source": [
    "# 1.3 - Gathering Greenbook Forecast Data\n",
    "\n",
    "This script gathers Greenbook forecast data in order to purge the series constructed in 1.2 of the Fed Information Effect following Mirranda-Aggripino (2016). Variables gathered are Greenbook forecast revisions for Real GDP, GDP Price Inflation, and the Unemployment Rate.\n",
    "\n",
    "The Greenbook data comes from the Philadelphia Fed in *.xlsx* format, and is found at **philadelphiafed.org/research-and-data/real-time-center/greenbook-data/philadelphia-data-set**.\n",
    "\n",
    "Eventual goal is to get as many quarters-out of forecast revisions as is available for *all* meeting dates - the minimum quarters-out available for all dates, for all variables, is taken for every date, for every variable."
   ]
  },
  {
   "cell_type": "markdown",
   "metadata": {},
   "source": [
    "### Preamble\n",
    "\n",
    "This script makes use of...\n",
    "\n",
    "- `pandas`\n",
    "- Regular Expressions (`re`)\n",
    "- `datetime`\n",
    "- `time`\n",
    "- `itertools`\n",
    "- NumPy"
   ]
  },
  {
   "cell_type": "code",
   "execution_count": 11,
   "metadata": {},
   "outputs": [],
   "source": [
    "import pandas as pd\n",
    "import re\n",
    "from datetime import datetime\n",
    "import time\n",
    "from itertools import compress\n",
    "import numpy as np"
   ]
  },
  {
   "cell_type": "markdown",
   "metadata": {},
   "source": [
    "### Import Meeting Dates\n",
    "\n",
    "This code imports the meeting dates scraped in script 1.1."
   ]
  },
  {
   "cell_type": "code",
   "execution_count": 12,
   "metadata": {},
   "outputs": [],
   "source": [
    "FOMC_dates = []\n",
    "\n",
    "with open('dates.csv','r') as FOMC_dates_file:\n",
    "    \n",
    "    for line in FOMC_dates_file: # The \"for\" loop is somewhat redundant - the file has only one line.\n",
    "        \n",
    "        raw_FOMC_dates = line.split(',')\n",
    "\n",
    "for date in raw_FOMC_dates:\n",
    "    \n",
    "    unix_date = int(re.search(\"[0-9]+\", date).group(0)) # isolates integer from string\n",
    "\n",
    "    FOMC_dates.append(unix_date)"
   ]
  },
  {
   "cell_type": "markdown",
   "metadata": {},
   "source": [
    "### Initialising Dataframes"
   ]
  },
  {
   "cell_type": "code",
   "execution_count": 13,
   "metadata": {},
   "outputs": [],
   "source": [
    "real_gdp_df = pd.read_excel('gRGDP_1985_Last.xlsx')\n",
    "\n",
    "real_gdp_df.set_index('Date', inplace = True, drop = True) # Set dataframe index to date\n",
    "\n",
    "inflation_df = pd.read_excel('gPGDP_1985_Last.xlsx') \n",
    "\n",
    "inflation_df.set_index('Date', inplace = True, drop = True)\n",
    "\n",
    "unemployment_df = pd.read_excel('UNEMP_1985_Last.xlsx')\n",
    "\n",
    "unemployment_df.set_index('Date', inplace = True, drop = True)"
   ]
  },
  {
   "cell_type": "markdown",
   "metadata": {},
   "source": [
    "### Changing Dataframe Dates - Columns\n",
    "\n",
    "The columns of each dataframe are labelled by the corresponding Greenbook date. Each Greenbook bears a date that is roughly a week prior to the FOMC meeting to which it corresponds. In the below block these dates are changed to those established as meeting dates in script 1.1 (in Unix time). It also marks dates prior to 1994 to be dropped."
   ]
  },
  {
   "cell_type": "code",
   "execution_count": 14,
   "metadata": {},
   "outputs": [
    {
     "name": "stdout",
     "output_type": "stream",
     "text": [
      "Dates align for all variables\n"
     ]
    }
   ],
   "source": [
    "gdp_dates = []\n",
    "\n",
    "inflation_dates = []\n",
    "\n",
    "unemployment_dates = [] # In theory, these three lists should be identical\n",
    "\n",
    "### GDP ###\n",
    "\n",
    "for raw_date in real_gdp_df.columns:\n",
    "    \n",
    "    eight_fig_date = re.search(\"\\d{8}\", raw_date).group(0) # Isolates the yyyymmdd date in the column title\n",
    "    \n",
    "    datetime_date = datetime.strptime(eight_fig_date, '%Y%m%d')\n",
    "    \n",
    "    greenbook_unix = time.mktime(datetime_date.timetuple())\n",
    "    \n",
    "    if greenbook_unix < 757382400: # 757382400 is the start of 1994 in unix.\n",
    "        \n",
    "        gdp_dates.append(0) # 0 indicates date is to be dropped\n",
    "        \n",
    "        continue\n",
    "    \n",
    "    date_corresponds_booleans = [(x > greenbook_unix and x < greenbook_unix + 1814400) \n",
    "                                 for x in FOMC_dates] # Returns booleans for whether FOMC date occurs within 3 weeks \n",
    "                                                      # (1,814,400 seconds) of Greenbook date\n",
    "    \n",
    "    corresponding_dates = list(compress(FOMC_dates,date_corresponds_booleans))\n",
    "    \n",
    "    if len(corresponding_dates) != 1:\n",
    "        \n",
    "        print(\"Error with \" + str(datetime_date))\n",
    "    \n",
    "    gdp_dates.append(corresponding_dates[0])\n",
    "\n",
    "real_gdp_df.columns = gdp_dates\n",
    "\n",
    "### Inflation ###\n",
    "\n",
    "for raw_date in inflation_df.columns:\n",
    "    \n",
    "    eight_fig_date = re.search(\"\\d{8}\", raw_date).group(0) # Isolates the yyyymmdd date in the column title\n",
    "    \n",
    "    datetime_date = datetime.strptime(eight_fig_date, '%Y%m%d')\n",
    "    \n",
    "    greenbook_unix = time.mktime(datetime_date.timetuple())\n",
    "    \n",
    "    if greenbook_unix < 757382400: # 757382400 is the start of 1994 in unix.\n",
    "        \n",
    "        inflation_dates.append(0) # 0 indicates date is to be dropped\n",
    "        \n",
    "        continue\n",
    "    \n",
    "    date_corresponds_booleans = [(x > greenbook_unix and x < greenbook_unix + 1814400) \n",
    "                                 for x in FOMC_dates] # Returns booleans for whether FOMC date occurs within 3 weeks \n",
    "                                                      # (1,814,400 seconds) of Greenbook date\n",
    "    \n",
    "    corresponding_dates = list(compress(FOMC_dates,date_corresponds_booleans))\n",
    "    \n",
    "    if len(corresponding_dates) != 1:\n",
    "        \n",
    "        print(\"Error with \" + str(datetime_date))\n",
    "    \n",
    "    inflation_dates.append(corresponding_dates[0])\n",
    "\n",
    "inflation_df.columns = inflation_dates\n",
    "\n",
    "### Unemployment ###\n",
    "\n",
    "for raw_date in unemployment_df.columns:\n",
    "    \n",
    "    eight_fig_date = re.search(\"\\d{8}\", raw_date).group(0) # Isolates the yyyymmdd date in the column title\n",
    "    \n",
    "    datetime_date = datetime.strptime(eight_fig_date, '%Y%m%d')\n",
    "    \n",
    "    greenbook_unix = time.mktime(datetime_date.timetuple())\n",
    "    \n",
    "    if greenbook_unix < 757382400: # 757382400 is the start of 1994 in unix.\n",
    "        \n",
    "        unemployment_dates.append(0) # 0 indicates date is to be dropped\n",
    "        \n",
    "        continue\n",
    "    \n",
    "    date_corresponds_booleans = [(x > greenbook_unix and x < greenbook_unix + 1814400) \n",
    "                                 for x in FOMC_dates] # Returns booleans for whether FOMC date occurs within 3 weeks \n",
    "                                                      # (1,814,400 seconds) of Greenbook date\n",
    "    \n",
    "    corresponding_dates = list(compress(FOMC_dates,date_corresponds_booleans))\n",
    "    \n",
    "    if len(corresponding_dates) != 1:\n",
    "        \n",
    "        print(\"Error with \" + str(datetime_date))\n",
    "    \n",
    "    unemployment_dates.append(corresponding_dates[0])\n",
    "\n",
    "unemployment_df.columns = unemployment_dates\n",
    "\n",
    "if (unemployment_dates != inflation_dates or inflation_dates != gdp_dates):\n",
    "    \n",
    "    print('Dates do not align for all variables.')\n",
    "    \n",
    "else:\n",
    "    \n",
    "    print('Dates align for all variables')"
   ]
  },
  {
   "cell_type": "markdown",
   "metadata": {},
   "source": [
    "### Changing Dataframe Dates - Rows\n",
    "\n",
    "Each dataframe row contains the forecasts for the quarter with which it is labelled. Here, we change these quarter labels to Unix time."
   ]
  },
  {
   "cell_type": "code",
   "execution_count": 15,
   "metadata": {},
   "outputs": [
    {
     "name": "stdout",
     "output_type": "stream",
     "text": [
      "Dates align for all variables\n"
     ]
    }
   ],
   "source": [
    "gdp_quarters = []\n",
    "\n",
    "inflation_quarters = []\n",
    "\n",
    "unemployment_quarters = []\n",
    "\n",
    "### GDP ###\n",
    "\n",
    "for q in real_gdp_df.index:\n",
    "    \n",
    "    year, quarter = str(q).split('.') # q comes in format yyyy.Q\n",
    "    \n",
    "    if int(year) < 1994:\n",
    "        \n",
    "        gdp_quarters.append(0) # 0 indicates date is to be dropped\n",
    "        \n",
    "        continue\n",
    "    \n",
    "    month_int = int(quarter)*3 - 2 # Maps Quarter x to month 3x - 2 (i.e. start of quarter)\n",
    "    \n",
    "    if month_int < 10:\n",
    "        \n",
    "        month = '0' + str(month_int) # Maps 1 to 01, 2 to 02, etc.\n",
    "    \n",
    "    else:\n",
    "        \n",
    "        month = str(month_int)\n",
    "    \n",
    "    year_month = year + month\n",
    "    \n",
    "    datetime_date = datetime.strptime(year_month, '%Y%m')\n",
    "    \n",
    "    quarter_unix = time.mktime(datetime_date.timetuple())\n",
    "    \n",
    "    gdp_quarters.append(int(quarter_unix))\n",
    "\n",
    "real_gdp_df.index = gdp_quarters\n",
    "    \n",
    "### Inflation ###\n",
    "\n",
    "for q in inflation_df.index:\n",
    "    \n",
    "    year, quarter = str(q).split('.') # q comes in format yyyy.Q\n",
    "    \n",
    "    if int(year) < 1994:\n",
    "        \n",
    "        inflation_quarters.append(0) # 0 indicates date is to be dropped\n",
    "        \n",
    "        continue\n",
    "    \n",
    "    month_int = int(quarter)*3 - 2 # Maps Quarter x to month 3x - 2 (i.e. start of quarter)\n",
    "    \n",
    "    if month_int < 10:\n",
    "        \n",
    "        month = '0' + str(month_int) # Maps 1 to 01, 2 to 02, etc.\n",
    "    \n",
    "    else:\n",
    "        \n",
    "        month = str(month_int)\n",
    "    \n",
    "    year_month = year + month\n",
    "    \n",
    "    datetime_date = datetime.strptime(year_month, '%Y%m')\n",
    "    \n",
    "    quarter_unix = time.mktime(datetime_date.timetuple())\n",
    "    \n",
    "    inflation_quarters.append(int(quarter_unix))\n",
    "    \n",
    "inflation_df.index = inflation_quarters\n",
    "    \n",
    "### Unemployment ###\n",
    "\n",
    "for q in unemployment_df.index:\n",
    "    \n",
    "    year, quarter = str(q).split('.') # q comes in format yyyy.Q\n",
    "    \n",
    "    if int(year) < 1994:\n",
    "        \n",
    "        unemployment_quarters.append(0) # 0 indicates date is to be dropped\n",
    "        \n",
    "        continue\n",
    "    \n",
    "    month_int = int(quarter)*3 - 2 # Maps Quarter x to month 3x - 2 (i.e. start of quarter)\n",
    "    \n",
    "    if month_int < 10:\n",
    "        \n",
    "        month = '0' + str(month_int) # Maps 1 to 01, 2 to 02, etc.\n",
    "    \n",
    "    else:\n",
    "        \n",
    "        month = str(month_int)\n",
    "    \n",
    "    year_month = year + month\n",
    "    \n",
    "    datetime_date = datetime.strptime(year_month, '%Y%m')\n",
    "    \n",
    "    quarter_unix = time.mktime(datetime_date.timetuple())\n",
    "    \n",
    "    unemployment_quarters.append(int(quarter_unix))\n",
    "\n",
    "unemployment_df.index = unemployment_quarters\n",
    "\n",
    "if (unemployment_quarters != inflation_quarters or unemployment_quarters != gdp_quarters):\n",
    "    \n",
    "    print('Dates do not align for all variables.')\n",
    "    \n",
    "else:\n",
    "    \n",
    "    print('Dates align for all variables')"
   ]
  },
  {
   "cell_type": "markdown",
   "metadata": {},
   "source": [
    "### Producing Forecast *Revision* Dataframes\n",
    "\n",
    "The Mirranda-Agrippino (2016) method makes primary use of forecast revisions from one Greenbook to the next rather than the Greenbook forecasts themselves. These are indicative of new information which the Fed is incorporating into Greenbook forecasts. Below each of the three dataframes established above are manipulated to produce the revision of projections from the Greenbook for one meeting to the Greenbook for the next. "
   ]
  },
  {
   "cell_type": "code",
   "execution_count": 16,
   "metadata": {},
   "outputs": [],
   "source": [
    "real_gdp_revisions_df = real_gdp_df - real_gdp_df.shift(axis = 1) # .shift() moves columns one to the right \n",
    "\n",
    "inflation_revisions_df = inflation_df - inflation_df.shift(axis = 1)\n",
    "\n",
    "unemployment_revisions_df = unemployment_df - unemployment_df.shift(axis = 1)"
   ]
  },
  {
   "cell_type": "markdown",
   "metadata": {},
   "source": [
    "### Dropping Pre-'94 Greenbook Data\n",
    "\n",
    "All pre-'94 data were labelled `0` in the **Changing Dataframe Dates - Columns** and **Changing Dataframe Dates - Rows** code blocks."
   ]
  },
  {
   "cell_type": "code",
   "execution_count": 17,
   "metadata": {},
   "outputs": [],
   "source": [
    "real_gdp_revisions_df = real_gdp_revisions_df.drop([0], axis = 1)\n",
    "\n",
    "real_gdp_revisions_df = real_gdp_revisions_df.drop([0], axis = 0)\n",
    "\n",
    "inflation_revisions_df = inflation_revisions_df.drop([0], axis = 1)\n",
    "\n",
    "inflation_revisions_df = inflation_revisions_df.drop([0], axis = 0)\n",
    "\n",
    "unemployment_revisions_df = unemployment_revisions_df.drop([0], axis = 1)\n",
    "\n",
    "unemployment_revisions_df = unemployment_revisions_df.drop([0], axis = 0)"
   ]
  },
  {
   "cell_type": "markdown",
   "metadata": {},
   "source": [
    "### Removing Entries for Quarters Elapsed when Meeting Occured\n",
    "\n",
    "Several of the \"forecasts\" for which numbers are given in the Greenbook are quarters which have elapsed, yet the figures for which may still be revised. I follow Mirranda-Aggripino (2016) in not considering these quarters."
   ]
  },
  {
   "cell_type": "code",
   "execution_count": 18,
   "metadata": {},
   "outputs": [],
   "source": [
    "quarter_ends = {}\n",
    "\n",
    "quarter_starts = (real_gdp_revisions_df.index)\n",
    "\n",
    "for i in range(len(quarter_starts)):\n",
    "    \n",
    "    if i < len(quarter_starts) - 1:\n",
    "        \n",
    "        quarter_ends[quarter_starts[i+1]] = quarter_starts[i]\n",
    "        \n",
    "    else: # date for end of final quarter must be found artificially\n",
    "        \n",
    "        datetime_format = datetime.fromtimestamp(quarter_starts[i])\n",
    "        \n",
    "        month = datetime_format.month\n",
    "        \n",
    "        year = datetime_format.year\n",
    "        \n",
    "        if month <= 9: #Handles January, April, July starts\n",
    "            \n",
    "            q_end = datetime(year, month + 3, 1)\n",
    "            \n",
    "            unix_format = time.mktime(q_end.timetuple())\n",
    "            \n",
    "            quarter_ends[unix_format] = quarter_starts[i]\n",
    "        \n",
    "        else: # October handled differently (no 13th month)\n",
    "            \n",
    "            q_end = datetime(year + 1, (month + 3) % 12, 1)\n",
    "            \n",
    "            unix_format = int(time.mktime(q_end.timetuple()))\n",
    "            \n",
    "            quarter_ends[unix_format] = quarter_starts[i]\n",
    "    \n",
    "for meeting in (real_gdp_revisions_df.columns):\n",
    "    \n",
    "    for q_end in quarter_ends:\n",
    "        \n",
    "        if q_end < meeting:\n",
    "            \n",
    "            real_gdp_revisions_df.loc[quarter_ends[q_end],meeting] = np.NaN\n",
    "            \n",
    "            inflation_revisions_df.loc[quarter_ends[q_end],meeting] = np.NaN\n",
    "            \n",
    "            unemployment_revisions_df.loc[quarter_ends[q_end],meeting] = np.NaN\n",
    "            \n",
    "        else:\n",
    "            \n",
    "            break"
   ]
  },
  {
   "cell_type": "markdown",
   "metadata": {},
   "source": [
    "### Establishing the Minimum, Mean and Maximum Number of Forecast Revisions in the Greenbook for each FOMC Meeting"
   ]
  },
  {
   "cell_type": "code",
   "execution_count": 19,
   "metadata": {},
   "outputs": [
    {
     "name": "stdout",
     "output_type": "stream",
     "text": [
      "5 7.40625 9\n"
     ]
    }
   ],
   "source": [
    "leads_min = min([real_gdp_revisions_df.count().min(),\n",
    "         inflation_revisions_df.count().min(),\n",
    "         unemployment_revisions_df.count().min()])\n",
    "\n",
    "leads_mean = np.mean([real_gdp_revisions_df.count().mean(),\n",
    "         inflation_revisions_df.count().mean(),\n",
    "         unemployment_revisions_df.count().mean()])\n",
    "\n",
    "leads_max = max([real_gdp_revisions_df.count().max(),\n",
    "         inflation_revisions_df.count().max(),\n",
    "         unemployment_revisions_df.count().max()])\n",
    "\n",
    "print(leads_min,leads_mean,leads_max)"
   ]
  },
  {
   "cell_type": "markdown",
   "metadata": {},
   "source": [
    "### Building the Dataframe of Regressors\n",
    "\n",
    "This block gets the current and next four quarter forecasts or forecast revisions for each variable into a single dataframe for export."
   ]
  },
  {
   "cell_type": "code",
   "execution_count": 20,
   "metadata": {},
   "outputs": [],
   "source": [
    "regressors_index = [ # _q0 denotes current quarter, _qi denotes i quarters ahead.\n",
    "    'rgdp_q0',\n",
    "    'rgdp_q1',\n",
    "    'rgdp_q2',\n",
    "    'rgdp_q3',\n",
    "    'rgdp_q4',\n",
    "    'infl_q0',\n",
    "    'infl_q1',\n",
    "    'infl_q2',\n",
    "    'infl_q3',\n",
    "    'infl_q4',\n",
    "    'unmp_q0',\n",
    "    'unmp_q1',\n",
    "    'unmp_q2',\n",
    "    'unmp_q3',\n",
    "    'unmp_q4'\n",
    "]\n",
    "\n",
    "regressors_df = pd.DataFrame(index = regressors_index)\n",
    "\n",
    "for meeting in real_gdp_revisions_df.columns:\n",
    "    \n",
    "    rgdp = real_gdp_revisions_df[meeting].dropna().tolist()[:leads_min] # Gets first 5 non-NaN values from each column\n",
    "    \n",
    "    infl = inflation_revisions_df[meeting].dropna().tolist()[:leads_min]\n",
    "    \n",
    "    unmp = unemployment_revisions_df[meeting].dropna().tolist()[:leads_min]\n",
    "    \n",
    "    full_spec = rgdp + infl + unmp\n",
    "    \n",
    "    regressors_df[meeting] = full_spec"
   ]
  },
  {
   "cell_type": "markdown",
   "metadata": {},
   "source": [
    "### Export to *.csv*"
   ]
  },
  {
   "cell_type": "code",
   "execution_count": 22,
   "metadata": {},
   "outputs": [],
   "source": [
    "regressors_df.to_csv(\"greenbook.csv\")"
   ]
  }
 ],
 "metadata": {
  "kernelspec": {
   "display_name": "Python 3",
   "language": "python",
   "name": "python3"
  },
  "language_info": {
   "codemirror_mode": {
    "name": "ipython",
    "version": 3
   },
   "file_extension": ".py",
   "mimetype": "text/x-python",
   "name": "python",
   "nbconvert_exporter": "python",
   "pygments_lexer": "ipython3",
   "version": "3.7.1"
  }
 },
 "nbformat": 4,
 "nbformat_minor": 2
}
