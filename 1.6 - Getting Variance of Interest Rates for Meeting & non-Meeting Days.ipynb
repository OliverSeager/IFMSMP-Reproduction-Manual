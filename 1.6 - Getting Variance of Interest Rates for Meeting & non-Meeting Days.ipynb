{
 "cells": [
  {
   "cell_type": "markdown",
   "metadata": {},
   "source": [
    "# 1.6 - Getting Variance of Interest Rates for Meeting & non-Meeting Days\n",
    "\n",
    "This script expands on 1.2 by getting ED6, ED12 and ED24 movements, as well as movements in implied expectations of the FFR between the upcoming meeting $(t)$ and the meeting after $(t+1)$, and between the meeting after $(t+1)$ and the meeting after that $(t+2)$, for all days between 13 December 1993 and 31 December 2013 for which...\n",
    "\n",
    "- Dates for meetings $t$ and $t+1$ are contained in `FOMC_dates`\n",
    "- The last price on the previous day is also available\n",
    "\n",
    "This delivers data for 3,749 non-meeting days and for the original 158 meeting days from script 1.2.\n",
    "\n",
    "Variance for the movement of each interest rate for each subset of the total 3,907 days is then taken in the last two code blocks. "
   ]
  },
  {
   "cell_type": "markdown",
   "metadata": {},
   "source": [
    "### Preamble\n",
    "\n",
    "This script makes use of...\n",
    "\n",
    "- Pandas\n",
    "- NumPy\n",
    "- Regular Expressions (`re`)\n",
    "- `calendar`"
   ]
  },
  {
   "cell_type": "code",
   "execution_count": 41,
   "metadata": {},
   "outputs": [],
   "source": [
    "import pandas as pd\n",
    "import numpy as np\n",
    "import re\n",
    "from calendar import monthrange\n",
    "from pandas.tseries.offsets import DateOffset"
   ]
  },
  {
   "cell_type": "markdown",
   "metadata": {},
   "source": [
    "### Import Meeting Dates"
   ]
  },
  {
   "cell_type": "code",
   "execution_count": 42,
   "metadata": {},
   "outputs": [],
   "source": [
    "FOMC_dates = []\n",
    "\n",
    "with open('dates.csv','r') as FOMC_dates_file:\n",
    "    \n",
    "    for line in FOMC_dates_file: # The \"for\" loop is somewhat redundant - the file has only one line.\n",
    "        \n",
    "        raw_FOMC_dates = line.split(',')\n",
    "\n",
    "for date in raw_FOMC_dates:\n",
    "    \n",
    "    unix_date = int(re.search(\"[0-9]+\", date).group(0)) # isolates integer from string\n",
    "\n",
    "    FOMC_dates.append(pd.Timestamp((unix_date + 43200) - ((unix_date + 43200) % 86400), unit = 's')) # Prevents errors rounding down to 23:00 on previous day\n",
    "\n",
    "FOMC_dates.append(pd.Timestamp((1390996800) - (1390996800 %86400), unit = 's'))"
   ]
  },
  {
   "cell_type": "markdown",
   "metadata": {},
   "source": [
    "### Interest Rate Dataframe\n",
    "\n",
    "This block compiles a dataframe of daily prices for FF1, FF2, FF3, FF4, FF5, ED6, ED12 and ED24 from December 13, 1993 to December 31 1994.\n",
    "\n",
    "Unlike script 1.2, FF5 is included here in order to accomodate for days on which the appropriate Futures contract from which to imply shifts in expectations of the FFR between the meeting *after* the upcoming meeting and the meeting after that is 5 months out. "
   ]
  },
  {
   "cell_type": "code",
   "execution_count": 43,
   "metadata": {},
   "outputs": [
    {
     "name": "stdout",
     "output_type": "stream",
     "text": [
      "FF2 added\n",
      "FF3 added\n",
      "FF4 added\n",
      "FF5 added\n",
      "ED6 added\n",
      "ED12 added\n",
      "ED24 added\n"
     ]
    }
   ],
   "source": [
    "ir_df = pd.read_excel('FF1.xlsx').set_index('Date').drop(['Open','High','Low','Open Interest','SMAVG (15)'], axis = 1)\n",
    "\n",
    "# Bloomberg's FF1 series has a different data structure to all others, so is treated as above.\n",
    "\n",
    "ir_df = ir_df.rename({'Close':'FF1'}, axis = 1)\n",
    "\n",
    "def merge_df(df_main, x): # This function gets all data from FF1, FF2, FF3, FF4, ED6, ED12 and ED24 into the same dataframe\n",
    "    \n",
    "    print(x + ' added')\n",
    "    \n",
    "    df_r = pd.read_excel(x + '.xlsx') # for example, 'FF3.xlsx'\n",
    "    \n",
    "    df_r = df_r.set_index('Date').drop(['Open Interest','SMAVG (15)'], axis = 1).rename(columns = {'Last Price':x})\n",
    "    \n",
    "    return pd.concat([df_main, df_r], axis=1, join = 'inner')\n",
    "\n",
    "for ir in ['FF2','FF3','FF4','FF5','ED6','ED12','ED24']:\n",
    "    \n",
    "    ir_df = merge_df(ir_df, ir)"
   ]
  },
  {
   "cell_type": "markdown",
   "metadata": {},
   "source": [
    "### Getting a Price *Movements* Dataframe; Refining the Dataframe\n",
    "\n",
    "This code block creates a price movement dataframe, removing all days on which analysis cannot feasibly be conducted without error."
   ]
  },
  {
   "cell_type": "code",
   "execution_count": 44,
   "metadata": {},
   "outputs": [],
   "source": [
    "for date in ir_df.index:\n",
    "    \n",
    "    for ir in ir_df.columns:\n",
    "        \n",
    "        if date.day == 1 and ir in ['FF1','FF2','FF3','FF4']: # Handles contract switch on first day of month\n",
    "            \n",
    "            ir_df.loc[date,ir] = (100 - ir_df.loc[date,ir]) - (100 - ir_df.shift(-1).shift(-1, axis = 1).loc[date, ir])\n",
    "        \n",
    "        else:\n",
    "            \n",
    "            ir_df.loc[date,ir] = (100 - ir_df.loc[date,ir]) - (100 - ir_df.shift(-1).loc[date, ir])\n",
    "\n",
    "ir_df = ir_df.drop(index = ir_df.index[[date > FOMC_dates[-2] for date in ir_df.index]]) # Removes days for shock to FFR expectations two meetings forward cannot be calculated \n",
    "ir_df = ir_df.drop(index = ir_df.index[[date < FOMC_dates[0] for date in ir_df.index]]) # Removes days prior to first meeting date.\n",
    "\n",
    "fixed_index = ir_df.index # Fixing the ir_df index allows for rows to be dropped by index from the ir_df dataframe without rearranging the indices during the for loop. \n",
    "\n",
    "dbe = [(date + DateOffset(days = -1) in ir_df.index) for date in ir_df.index] # \"Day Before Exists\": For each day, checks the previous day also has a price\n",
    "\n",
    "for i in range(len(dbe)):\n",
    "    \n",
    "    if dbe[i] == False:\n",
    "        \n",
    "        ir_df = ir_df.drop(index = [fixed_index[i]]) # Drops rows for which the pre-calculated movement was based on a price other than that of the day before "
   ]
  },
  {
   "cell_type": "markdown",
   "metadata": {},
   "source": [
    "### Calculating Implied Movements in Expectations of the FFR\n",
    "\n",
    "Borrowing for script 1.2, implied movements are calculated as below.\n",
    "\n",
    "Let...\n",
    "\n",
    "- $m_t$ denote the number of days in the month which the upcoming meeting, $t$, occurs.\n",
    "- $m_{t+1}$ denote the number of days in the month when the next meeting, $t+1$ occurs\n",
    "- $d_t$ denote the day of the month on which meeting $t$ occurs\n",
    "- $d_{t+1}$ denote the day of month on which meeting $t+1$ occurs\n",
    "- $s_j$ denote the current day shock to the FFF corresponding to the month in which meeting $t$ occurs.\n",
    "- $s_{j+1}$ denote the current day shock to the FFF corresponding to the month after that in which meeting $t$ occurs.\n",
    "- $s_k$ denote the current day shock to the FFF corresponding to the month in which meeting $t+1$ occurs.\n",
    "- $s_{k+1}$ denote the current day shock to the FFF corresponding to the month after that in which meeting $t+1$ occurs.\n",
    "\n",
    "If meeting $t$ occurs outside the last week of its month, the shock to expectations of the FFR between meeting $t$ and $t + 1$ is given by...\n",
    "\n",
    "$\\phi_{t,t+1} = \\frac{m_t}{m_t-d_t}s_j$\n",
    "\n",
    "If it occurs *during* the last week of its month, the shock to expectations of the FFR between meeting $t$ and $t + 1$ is given by...\n",
    "\n",
    "$\\phi_{t,t+1} = s_{j+1}$\n",
    "\n",
    "If meeting $t+1$ occurs outside the last week of its month, the shock to expectations of the FFR between meeting $t+1$ and $t + 2$ is given by...\n",
    "\n",
    "$\\phi_{t+1,t+2} = \\frac{m_{t+1}}{m_{t+1}-d_{t+1}}\\left(s_k - \\frac{d_{t+1}}{m_{t+1}}\\phi_{t,t+1}\\right)$\n",
    "\n",
    "If it occurs *during* the last week of its month, the shock to expectations of the FFR between meeting $t$ and $t + 1$ is given by...\n",
    "\n",
    "$\\phi_{t+1,t+2} = s_{k+1}$"
   ]
  },
  {
   "cell_type": "code",
   "execution_count": 45,
   "metadata": {},
   "outputs": [],
   "source": [
    "nm = [] # Date of upcoming meeting\n",
    "\n",
    "am = [] # Date of meeting after\n",
    "\n",
    "months_ahead_nm = [] # Number of months until upcoming meeeting (would calculate Mar 1 as 2 months from Jan 31)\n",
    "\n",
    "months_ahead_am = []\n",
    "\n",
    "day_of_nm = [] # Day that upcoming meeting occurs in its month\n",
    "\n",
    "day_of_am = []\n",
    "\n",
    "days_in_nm = [] # Days in month of upcoming meeting\n",
    "\n",
    "days_in_am = []\n",
    "\n",
    "last_7_nm = [] # Is upcoming meeting in last week of its month (0 = False, 1 = True) \n",
    "\n",
    "last_7_am = []\n",
    "\n",
    "nm_contract = [] # From which contract are expectations of the FFR from the upcoming meeting to the one after implied?\n",
    "\n",
    "am_contract = []\n",
    "\n",
    "nm_coefs = [] # Coefficient for implying next shock from single contract movement\n",
    "\n",
    "am_coefs_1 = [] # Coefficient either m_{t+1}/(m_{t+1} - d_{t+1}) or 1, as above\n",
    "\n",
    "am_coefs_2 = [] # Coefficient either d_{t+1}/m_{t+1} or 0, as above.\n",
    "\n",
    "for date in ir_df.index:\n",
    "    \n",
    "    i = len(FOMC_dates) - sum([meeting >= date for meeting in FOMC_dates]) # Gets index of upcoming meeting in FOMC_dates\n",
    "    \n",
    "    next_meet, after_meet = FOMC_dates[i:i+2] # Gets dates into variables\n",
    "    \n",
    "    nm.append(next_meet)\n",
    "    \n",
    "    am.append(after_meet)\n",
    "    \n",
    "    m_ahead_nm = (next_meet.month - date.month) % 12 # timestamp.month returns an integer. Note that, for example, (2 - 12) % 12 = 2\n",
    "    \n",
    "    m_ahead_am = (after_meet.month - date.month) % 12\n",
    "    \n",
    "    months_ahead_nm.append(m_ahead_nm)\n",
    "    \n",
    "    months_ahead_am.append(m_ahead_am)\n",
    "    \n",
    "    do_nm = next_meet.day  # timestamp.day returns an integer. \n",
    "    \n",
    "    day_of_nm.append(do_nm)\n",
    "    \n",
    "    do_am = after_meet.day\n",
    "    \n",
    "    day_of_am.append(do_am)\n",
    "    \n",
    "    di_nm = monthrange(next_meet.year,next_meet.month)[1] # monthrange(yyyy,m)[1] returns the number of days in the argued month\n",
    "    \n",
    "    days_in_nm.append(di_nm)\n",
    "    \n",
    "    di_am = monthrange(after_meet.year,after_meet.month)[1]\n",
    "    \n",
    "    days_in_am.append(di_am)\n",
    "    \n",
    "    if di_nm - do_nm <= 6: # i.e. if upcoming meeting in last week of its month\n",
    "        \n",
    "        l7_nm = 1\n",
    "        \n",
    "        last_7_nm.append(l7_nm)\n",
    "        \n",
    "        nm_coef = 1\n",
    "        \n",
    "        nm_coefs.append(nm_coef)\n",
    "    \n",
    "    else:\n",
    "        \n",
    "        l7_nm = 0\n",
    "        \n",
    "        last_7_nm.append(l7_nm)\n",
    "    \n",
    "        nm_coef = di_nm/(di_nm - do_nm)\n",
    "        \n",
    "        nm_coefs.append(nm_coef)\n",
    "    \n",
    "    if di_am - do_am <= 6: # i.e. if meeting after in last week of its month\n",
    "        \n",
    "        l7_am = 1\n",
    "        \n",
    "        last_7_am.append(l7_am)\n",
    "        \n",
    "        am_coef_1 = 1\n",
    "        \n",
    "        am_coefs_1.append(am_coef_1)\n",
    "        \n",
    "        am_coef_2 = 0\n",
    "        \n",
    "        am_coefs_2.append(am_coef_2)\n",
    "    \n",
    "    else:\n",
    "        \n",
    "        l7_am = 0\n",
    "        \n",
    "        last_7_am.append(l7_am)\n",
    "    \n",
    "        am_coef_1 = di_am/(di_am - do_am)\n",
    "        \n",
    "        am_coefs_1.append(am_coef_1)\n",
    "        \n",
    "        am_coef_2 = do_am/di_am\n",
    "        \n",
    "        am_coefs_2.append(am_coef_2)\n",
    "    \n",
    "    nm_con = 'FF' + str(l7_nm + m_ahead_nm + 1)  # Gets contract movement from which upcoming meeting shock implied\n",
    "    \n",
    "    nm_contract.append(nm_con)\n",
    "    \n",
    "    am_con = 'FF' + str(l7_am + m_ahead_am + 1)\n",
    "    \n",
    "    am_contract.append(am_con)\n",
    "    \n",
    "ir_df['nm'] = nm\n",
    "\n",
    "ir_df['nm_contract'] = nm_contract\n",
    "\n",
    "ir_df['nm_coef'] = nm_coefs\n",
    "\n",
    "ir_df['am'] = am\n",
    "\n",
    "ir_df['am_contract'] = am_contract\n",
    "\n",
    "ir_df['am_coef_1'] = am_coefs_1\n",
    "\n",
    "ir_df['am_coef_2'] = am_coefs_2\n",
    "\n",
    "FFR0to1 = []\n",
    "\n",
    "FFR1to2 = []\n",
    "\n",
    "for date in ir_df.index: # This loop carries out the calculations given in the description above.\n",
    "    \n",
    "    mov1 = ir_df.loc[date,ir_df.loc[date,'nm_contract']]\n",
    "    \n",
    "    adj_mov1 = mov1*ir_df.loc[date,'nm_coef']\n",
    "    \n",
    "    FFR0to1.append(adj_mov1)\n",
    "    \n",
    "    mov2 = ir_df.loc[date,ir_df.loc[date,'am_contract']]\n",
    "    \n",
    "    adj_mov2 = ir_df.loc[date,'am_coef_1']*(mov2 - ir_df.loc[date,'am_coef_2']*adj_mov1)\n",
    "    \n",
    "    FFR1to2.append(adj_mov2)\n",
    "\n",
    "ir_df['FFR0to1'] = FFR0to1\n",
    "\n",
    "ir_df['FFR1to2'] = FFR1to2\n",
    "\n",
    "ir_df = ir_df.drop(columns = ['FF1','FF2','FF3','FF4','FF5','nm','nm_contract','nm_coef','am','am_contract','am_coef_1','am_coef_2',])"
   ]
  },
  {
   "cell_type": "markdown",
   "metadata": {},
   "source": [
    "### Get Non-meeting Day and Meeting Day Dataframes"
   ]
  },
  {
   "cell_type": "code",
   "execution_count": 46,
   "metadata": {},
   "outputs": [],
   "source": [
    "ir_df_meetings = ir_df.loc[[(date in FOMC_dates) for date in ir_df.index]].dropna() # Gets meeting days for which values exist into one dataframe\n",
    "\n",
    "ir_df_nonmeetings = ir_df.loc[[(date not in FOMC_dates) for date in ir_df.index]].dropna() # Gets non-meeting days for which values exist into one dataframe"
   ]
  },
  {
   "cell_type": "markdown",
   "metadata": {},
   "source": [
    "### Data for Table 2"
   ]
  },
  {
   "cell_type": "code",
   "execution_count": 47,
   "metadata": {},
   "outputs": [
    {
     "data": {
      "text/plain": [
       "ED6        0.006285\n",
       "ED12       0.005730\n",
       "ED24       0.005616\n",
       "FFR0to1    0.001602\n",
       "FFR1to2    0.001384\n",
       "dtype: float64"
      ]
     },
     "execution_count": 47,
     "metadata": {},
     "output_type": "execute_result"
    }
   ],
   "source": [
    "ir_df_nonmeetings.var() # Variances for columns of non-meeting-day dataframe"
   ]
  },
  {
   "cell_type": "code",
   "execution_count": 48,
   "metadata": {},
   "outputs": [
    {
     "data": {
      "text/plain": [
       "ED6        0.014328\n",
       "ED12       0.010630\n",
       "ED24       0.007095\n",
       "FFR0to1    0.002023\n",
       "FFR1to2    0.002345\n",
       "dtype: float64"
      ]
     },
     "execution_count": 48,
     "metadata": {},
     "output_type": "execute_result"
    }
   ],
   "source": [
    "ir_df_meetings.var() # Variances for columns of meeting-day dataframe"
   ]
  },
  {
   "cell_type": "markdown",
   "metadata": {},
   "source": [
    "### Data for Table 3"
   ]
  },
  {
   "cell_type": "code",
   "execution_count": 49,
   "metadata": {},
   "outputs": [
    {
     "data": {
      "text/html": [
       "<div>\n",
       "<style scoped>\n",
       "    .dataframe tbody tr th:only-of-type {\n",
       "        vertical-align: middle;\n",
       "    }\n",
       "\n",
       "    .dataframe tbody tr th {\n",
       "        vertical-align: top;\n",
       "    }\n",
       "\n",
       "    .dataframe thead th {\n",
       "        text-align: right;\n",
       "    }\n",
       "</style>\n",
       "<table border=\"1\" class=\"dataframe\">\n",
       "  <thead>\n",
       "    <tr style=\"text-align: right;\">\n",
       "      <th></th>\n",
       "      <th>ED6</th>\n",
       "      <th>ED12</th>\n",
       "      <th>ED24</th>\n",
       "      <th>FFR0to1</th>\n",
       "      <th>FFR1to2</th>\n",
       "    </tr>\n",
       "  </thead>\n",
       "  <tbody>\n",
       "    <tr>\n",
       "      <th>ED6</th>\n",
       "      <td>1.000000</td>\n",
       "      <td>0.880319</td>\n",
       "      <td>0.708035</td>\n",
       "      <td>0.346181</td>\n",
       "      <td>0.478367</td>\n",
       "    </tr>\n",
       "    <tr>\n",
       "      <th>ED12</th>\n",
       "      <td>0.880319</td>\n",
       "      <td>1.000000</td>\n",
       "      <td>0.909903</td>\n",
       "      <td>0.280082</td>\n",
       "      <td>0.401335</td>\n",
       "    </tr>\n",
       "    <tr>\n",
       "      <th>ED24</th>\n",
       "      <td>0.708035</td>\n",
       "      <td>0.909903</td>\n",
       "      <td>1.000000</td>\n",
       "      <td>0.208093</td>\n",
       "      <td>0.312471</td>\n",
       "    </tr>\n",
       "    <tr>\n",
       "      <th>FFR0to1</th>\n",
       "      <td>0.346181</td>\n",
       "      <td>0.280082</td>\n",
       "      <td>0.208093</td>\n",
       "      <td>1.000000</td>\n",
       "      <td>0.369030</td>\n",
       "    </tr>\n",
       "    <tr>\n",
       "      <th>FFR1to2</th>\n",
       "      <td>0.478367</td>\n",
       "      <td>0.401335</td>\n",
       "      <td>0.312471</td>\n",
       "      <td>0.369030</td>\n",
       "      <td>1.000000</td>\n",
       "    </tr>\n",
       "  </tbody>\n",
       "</table>\n",
       "</div>"
      ],
      "text/plain": [
       "              ED6      ED12      ED24   FFR0to1   FFR1to2\n",
       "ED6      1.000000  0.880319  0.708035  0.346181  0.478367\n",
       "ED12     0.880319  1.000000  0.909903  0.280082  0.401335\n",
       "ED24     0.708035  0.909903  1.000000  0.208093  0.312471\n",
       "FFR0to1  0.346181  0.280082  0.208093  1.000000  0.369030\n",
       "FFR1to2  0.478367  0.401335  0.312471  0.369030  1.000000"
      ]
     },
     "execution_count": 49,
     "metadata": {},
     "output_type": "execute_result"
    }
   ],
   "source": [
    "ir_df_nonmeetings.corr()"
   ]
  }
 ],
 "metadata": {
  "kernelspec": {
   "display_name": "Python 3",
   "language": "python",
   "name": "python3"
  },
  "language_info": {
   "codemirror_mode": {
    "name": "ipython",
    "version": 3
   },
   "file_extension": ".py",
   "mimetype": "text/x-python",
   "name": "python",
   "nbconvert_exporter": "python",
   "pygments_lexer": "ipython3",
   "version": "3.7.1"
  }
 },
 "nbformat": 4,
 "nbformat_minor": 2
}
