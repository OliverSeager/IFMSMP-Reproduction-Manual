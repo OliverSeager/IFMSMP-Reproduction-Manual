{
 "cells": [
  {
   "cell_type": "markdown",
   "metadata": {},
   "source": [
    "# 1.8 - Merging the *.dta* File with the Shock Series and CPI Data\n",
    "\n",
    "This script takes the file *Compustat_93Q1_14Q4_2.dta* created in 1.7 and adds to each observations the quarterly value for my daily data series, the quarterised Nakamura and Steinsson (2018) series, and seasonally adjusted monthly CPI data from the Federal Reserve Bank of St. Louis' *FRED* database, found at **fred.stlouisfed.org/series/CPALTT01USM661S**."
   ]
  },
  {
   "cell_type": "markdown",
   "metadata": {},
   "source": [
    "### Preamble\n",
    "\n",
    "This script makes use of...\n",
    "\n",
    "- Pandas\n",
    "- NumPy"
   ]
  },
  {
   "cell_type": "code",
   "execution_count": 316,
   "metadata": {},
   "outputs": [],
   "source": [
    "import pandas as pd\n",
    "import numpy as np\n",
    "from pandas.tseries.offsets import DateOffset"
   ]
  },
  {
   "cell_type": "markdown",
   "metadata": {},
   "source": [
    "### Importing Quarterly Shocks and CPI into Dataframes"
   ]
  },
  {
   "cell_type": "code",
   "execution_count": 317,
   "metadata": {},
   "outputs": [],
   "source": [
    "cpi_df = pd.read_csv('CPI.csv').rename(columns = {'DATE':'Date'}) # Rename date column to align with other scripts\n",
    "\n",
    "qshocks_df = pd.read_csv('quarter_shocks.csv').rename(columns = {'Unnamed: 0':'Date'})\n",
    "\n",
    "cpi_df['Date'] = [pd.Timestamp(date) for date in cpi_df['Date']] # Converting dates from strings to Pandas timestamps.\n",
    "\n",
    "qshocks_df['Date'] = [pd.Timestamp(date) for date in qshocks_df['Date']]\n",
    "\n",
    "cpi_df = cpi_df.set_index('Date') # Setting 'Date' as index\n",
    "\n",
    "qshocks_df = qshocks_df.set_index('Date')"
   ]
  },
  {
   "cell_type": "markdown",
   "metadata": {},
   "source": [
    "### Normalising Shocks\n",
    "\n",
    "This block normalises each shock series such that a shock of 1 is an expansionary shock equivalent to the mean absolute value of shocks in the series."
   ]
  },
  {
   "cell_type": "code",
   "execution_count": 318,
   "metadata": {},
   "outputs": [],
   "source": [
    "qshocks_df['s_shock_p'] = qshocks_df['s_shock_p']/(-1*np.abs(qshocks_df['s_shock_p'].values).mean())\n",
    "\n",
    "qshocks_df['s_shock_r'] = qshocks_df['s_shock_r']/(-1*np.abs(qshocks_df['s_shock_r'].values).mean())\n",
    "\n",
    "qshocks_df['ns_shock_p'] = qshocks_df['ns_shock_p']/(-1*np.abs(qshocks_df['ns_shock_p'].values).mean())\n",
    "\n",
    "qshocks_df['ns_shock_r'] = qshocks_df['ns_shock_r']/(-1*np.abs(qshocks_df['ns_shock_r'].values).mean())"
   ]
  },
  {
   "cell_type": "markdown",
   "metadata": {},
   "source": [
    "### Getting Quarterly CPI Growth"
   ]
  },
  {
   "cell_type": "code",
   "execution_count": 319,
   "metadata": {},
   "outputs": [],
   "source": [
    "cpi_qgrowth_df = pd.DataFrame(index = cpi_df.index[:-3], columns = ['cpi_growth'])\n",
    "\n",
    "q = pd.DateOffset(months = 3) # Standard offset of one quarter\n",
    "\n",
    "for date in cpi_qgrowth_df.index:\n",
    "    \n",
    "    growth = cpi_df.loc[date + q,'CPALTT01USM661S']/cpi_df.loc[date,'CPALTT01USM661S']\n",
    "    \n",
    "    cpi_qgrowth_df.loc[date,'cpi_growth'] = growth"
   ]
  },
  {
   "cell_type": "markdown",
   "metadata": {},
   "source": [
    "### Importing Compustat Data\n",
    "\n",
    "This block and those below handle a dataframe of over 400,000 rows, and as such can be expected to run slowly"
   ]
  },
  {
   "cell_type": "code",
   "execution_count": 320,
   "metadata": {},
   "outputs": [],
   "source": [
    "dta_df = pd.read_stata('Compustat_93Q1_14Q4_2.dta')"
   ]
  },
  {
   "cell_type": "markdown",
   "metadata": {},
   "source": [
    "### Getting \"True Date\" Variable in Pandas Timestamp Format\n",
    "\n",
    "Since each firm quarter is variable (i.e. 1992 Q2 as listed could start anywhere from April 1992 to March 1993), the below code gets the true date of each quarter *start* (compustat data arrives at quarter end, but my data corresponds to quarter starts)"
   ]
  },
  {
   "cell_type": "code",
   "execution_count": 321,
   "metadata": {},
   "outputs": [],
   "source": [
    "dta_df['year_quarter'] = dta_df['fyearq'] + dta_df['fqtr']/10 # Get a float format variable of yyyy.q\n",
    "\n",
    "offsets = np.array([pd.DateOffset(months = y) for y in (10 - dta_df['fyrc'])]) # Get offset from listed date for each variable according to when fiscal year ends for firm\n",
    "\n",
    "f_dates = np.array([pd.Timestamp(str(y)[:4] + '-' + str((int(str(y)[-1:]) - 1)*3 + 1) + '-01') for y in dta_df['year_quarter']]) # Get listed date\n",
    "\n",
    "dta_df['true_qstart'] = f_dates + offsets"
   ]
  },
  {
   "cell_type": "markdown",
   "metadata": {},
   "source": [
    "### Getting Shocks and CPI Growth Values into DataFrame"
   ]
  },
  {
   "cell_type": "code",
   "execution_count": 322,
   "metadata": {},
   "outputs": [],
   "source": [
    "s_shock_p_dict = qshocks_df.s_shock_p.to_dict()\n",
    "\n",
    "s_shock_r_dict = qshocks_df.s_shock_r.to_dict()\n",
    "\n",
    "ns_shock_p_dict = qshocks_df.ns_shock_p.to_dict()\n",
    "\n",
    "ns_shock_r_dict = qshocks_df.ns_shock_r.to_dict()\n",
    "\n",
    "cpi_dict = cpi_qgrowth_df.cpi_growth.to_dict()\n",
    "\n",
    "dta_s_shocks_p = []\n",
    "\n",
    "dta_s_shocks_r = []\n",
    "\n",
    "dta_ns_shocks_p = []\n",
    "\n",
    "dta_ns_shocks_r = []\n",
    "\n",
    "dta_cpi = []\n",
    "\n",
    "ob = 0 # observation counter\n",
    "\n",
    "shocks_index = qshocks_df.index\n",
    "\n",
    "cpi_growth_index = cpi_qgrowth_df.index\n",
    "\n",
    "dta_qstarts = dta_df['true_qstart']\n",
    "\n",
    "for date in dta_qstarts:\n",
    "    \n",
    "    if date in shocks_index:\n",
    "        \n",
    "        dta_s_shocks_p.append(s_shock_p_dict[date])\n",
    "        \n",
    "        dta_s_shocks_r.append(s_shock_r_dict[date])\n",
    "        \n",
    "        dta_ns_shocks_p.append(ns_shock_p_dict[date])\n",
    "        \n",
    "        dta_ns_shocks_r.append(ns_shock_r_dict[date])\n",
    "    \n",
    "    else:\n",
    "        \n",
    "        dta_s_shocks_p.append(np.nan)\n",
    "        \n",
    "        dta_s_shocks_r.append(np.nan)\n",
    "        \n",
    "        dta_ns_shocks_p.append(np.nan)\n",
    "        \n",
    "        dta_ns_shocks_r.append(np.nan)\n",
    "    \n",
    "    if date in cpi_growth_index:\n",
    "        \n",
    "        dta_cpi.append(cpi_dict[date])\n",
    "        \n",
    "    else:\n",
    "        \n",
    "        dta_cpi.append(np.nan)\n",
    "    \n",
    "    ob = ob + 1\n",
    "\n",
    "dta_df['s_shock_p'] = dta_s_shocks_p\n",
    "\n",
    "dta_df['s_shock_r'] = dta_s_shocks_r\n",
    "\n",
    "dta_df['ns_shock_p'] = dta_ns_shocks_p\n",
    "\n",
    "dta_df['ns_shock_r'] = dta_ns_shocks_r\n",
    "\n",
    "dta_df['cpi_increase'] = dta_cpi"
   ]
  },
  {
   "cell_type": "markdown",
   "metadata": {},
   "source": [
    "### Getting True Quarter Variable\n",
    "\n",
    "This block gets the true year quarter to enable quarterly industry time dummies, where 1960q1 = 0. Since this takes the start month of the quarter from which an observation is taken, a convention must be established regarding what months correspond to which quarter. I define...\n",
    "\n",
    "- The first quarter of a year to be observations from quarters starting in December (of the previous year), January and February\n",
    "- The second quarter of a year to be observations from quarters starting in March, April and May\n",
    "- The third quarter of a year to be observations from quarters starting in June, July and August\n",
    "- The fourth quarter of a year to be observations from quarters starting in September, October and November"
   ]
  },
  {
   "cell_type": "code",
   "execution_count": 324,
   "metadata": {},
   "outputs": [],
   "source": [
    "true_q = []\n",
    "\n",
    "for date in dta_qstarts:\n",
    "    \n",
    "    q = int(((date.year - 1960)*12 + date.month)/3) # int() rounds a number down by default\n",
    "    \n",
    "    true_q.append(q)\n",
    "    \n",
    "dta_df['true_q'] = true_q"
   ]
  },
  {
   "cell_type": "markdown",
   "metadata": {},
   "source": [
    "### Get Starting and Ending True Quarters"
   ]
  },
  {
   "cell_type": "code",
   "execution_count": 325,
   "metadata": {},
   "outputs": [
    {
     "name": "stdout",
     "output_type": "stream",
     "text": [
      "130 223\n"
     ]
    }
   ],
   "source": [
    "print(min(true_q),max(true_q))"
   ]
  },
  {
   "cell_type": "markdown",
   "metadata": {},
   "source": [
    "### Export to *.dta*"
   ]
  },
  {
   "cell_type": "code",
   "execution_count": 326,
   "metadata": {},
   "outputs": [],
   "source": [
    "dta_df.to_stata('Compustat_93Q1_14Q4_3.dta')"
   ]
  }
 ],
 "metadata": {
  "kernelspec": {
   "display_name": "Python 3",
   "language": "python",
   "name": "python3"
  },
  "language_info": {
   "codemirror_mode": {
    "name": "ipython",
    "version": 3
   },
   "file_extension": ".py",
   "mimetype": "text/x-python",
   "name": "python",
   "nbconvert_exporter": "python",
   "pygments_lexer": "ipython3",
   "version": "3.7.1"
  }
 },
 "nbformat": 4,
 "nbformat_minor": 2
}
