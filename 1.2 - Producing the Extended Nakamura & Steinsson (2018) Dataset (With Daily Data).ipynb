{
 "cells": [
  {
   "cell_type": "markdown",
   "metadata": {},
   "source": [
    "# 1.2 - Producing the Extended Nakamura & Steinsson (2018) Shock Series (with Daily Data)\n",
    "\n",
    "This script creates policy shocks for 159 FOMC meetings by taking the first principal component of FOMC meeting day movements in interest rates. Firstly, movements in implied expectations of the Federal Funds Rate between the meeting of interest and the next, and between the next meeting and the one that follows that. These movements are two series, with each date's movements calculated from two of Federal Funds Futures at 1, 2, 3 or 4 months out, depending on what day of the month a meeting takes place. Secondly, movements in Eurodollar Futures at 6, 12 and 24 months out (ED6, ED12 and ED24).\n",
    "\n",
    "This takes inspiration from Nakamura and Steinsson (2018), who take the first principal component of movements in 30-minute windows surrounding FOMC meetings; they use the same movements in implied expectations of the FFR in addition to ED6, ED9 and ED12 contracts.\n",
    "\n",
    "A key difference is my usage of daily data to form a 24-hour window around the FOMC meeting, in lieu of access to tick-by-tick data.\n",
    "\n",
    "All price data are obtained from Bloomberg in *.xlsx* format."
   ]
  },
  {
   "cell_type": "markdown",
   "metadata": {},
   "source": [
    "### Preamble\n",
    "\n",
    "This script makes use of...\n",
    "\n",
    "- `pandas`\n",
    "- NumPy (`np`)\n",
    "- Regular Expressions (`re`)\n",
    "- `datetime`\n",
    "- `calendar`\n",
    "- `PCA` from SciKit Learn"
   ]
  },
  {
   "cell_type": "code",
   "execution_count": 92,
   "metadata": {},
   "outputs": [],
   "source": [
    "import pandas as pd\n",
    "import numpy as np\n",
    "import re\n",
    "from datetime import datetime\n",
    "from calendar import monthrange\n",
    "from sklearn.decomposition import PCA"
   ]
  },
  {
   "cell_type": "markdown",
   "metadata": {},
   "source": [
    "### Import Meeting Dates\n",
    "\n",
    "This code imports the meeting dates scraped in script 1.1."
   ]
  },
  {
   "cell_type": "code",
   "execution_count": 93,
   "metadata": {},
   "outputs": [],
   "source": [
    "FOMC_dates = []\n",
    "\n",
    "with open('dates.csv','r') as FOMC_dates_file:\n",
    "    \n",
    "    for line in FOMC_dates_file: # The \"for\" loop is somewhat redundant - the file has only one line.\n",
    "        \n",
    "        raw_FOMC_dates = line.split(',')\n",
    "\n",
    "for date in raw_FOMC_dates:\n",
    "    \n",
    "    unix_date = int(re.search(\"[0-9]+\", date).group(0)) # isolates integer from string\n",
    "\n",
    "    FOMC_dates.append(unix_date)"
   ]
  },
  {
   "cell_type": "markdown",
   "metadata": {},
   "source": [
    "### Establish Meeting Dates Dataframe - Federal Funds Futures Temporal Data\n",
    "\n",
    "This block gets all meeting dates into a single dataframe.\n",
    "\n",
    "It then computes various time data required for proper measurement of the changes in expectations of the Federal Funds Rate, following Nakamura and Steinsson (2018).\n",
    "\n",
    "The chief issue with identifying shocks to expectations of the Federal Funds rate with Federal Funds Futures is the difference in temporal structure between expectations and the futures contracts themselves.\n",
    "\n",
    "A Federal Funds Futures contract pays out according to the *average* Federal Funds Rate for the quarter to which it corresponds. Thus, if an FOMC decision occurs on the 16th day of a 31 day month, approximately half the price of the FFF for that month will be made up of the expected or known FFR prior to this date, and approximately half the price will be the expected or known FFR after this date. In theory, if markets expect this meeting to involve no change to the FFR, but the decision is a 0.5% increase, this will be reflected in a 0.25% increase in the rate as reflected by the FFF corresponding to this month. \n",
    "\n",
    "What I am concerned with is changes in expectations of the FFR between specific meetings. On any given meeting date, I study surprises to expectations of the FFR between this meeting and the next, and surprises to expectations of the FFR between the next meeting and the one after that. Note that if a meeting occurs in the last week of a month, there is no meeting scheduled for the month that follows. This block of code computes the coefficients required for such adjustments based on the date of the meeting date studied and the meeting date after that.\n",
    "\n",
    "Let...\n",
    "\n",
    "- $m_t$ denote the number of days in the current month, $t$.\n",
    "- $m_{t+1}$ denote the number of days in the month when the next meeting, $t+1$ occurs\n",
    "- $d_t$ denote the day of the month on which meeting $t$ occurs\n",
    "- $d_{t+1}$ denote the day of month on which meeting $t+1$ occurs\n",
    "- $s_1$ denote the current-meeting-day shock to FF1\n",
    "- $s_2$ denote the current-meeting-day shock to FF2\n",
    "- $s_n$ denote the current-meeting-day shock to the FFF corresponding to the month in which the next meeting occurs\n",
    "- $s_{n+1}$ denote the current-meeting-day shock to the FFF corresponding to the month after that in which the next meeting occurs\n",
    "\n",
    "If meeting $t$ occurs outside the last week of its month, the shock to expectations of the FFR between meeting $t$ and $t + 1$ is given by...\n",
    "\n",
    "$\\phi_{t,t+1} = \\frac{m_t}{m_t-d_t}s_1$\n",
    "\n",
    "If it occurs *during* the last week of its month, the shock to expectations of the FFR between meeting $t$ and $t + 1$ is given by...\n",
    "\n",
    "$\\phi_{t,t+1} = s_2$\n",
    "\n",
    "If meeting $t+1$ occurs outside the last week of its month, the shock to expectations of the FFR between meeting $t+1$ and $t + 2$ is given by...\n",
    "\n",
    "$\\phi_{t+1,t+2} = \\frac{m_{t+1}}{m_{t+1}-d_{t+1}}\\left(s_n - \\frac{d_{t+1}}{m_{t+1}}\\phi_{t,t+1}\\right)$\n",
    "\n",
    "If it occurs *during* the last week of its month, the shock to expectations of the FFR between meeting $t$ and $t + 1$ is given by...\n",
    "\n",
    "$\\phi_{t+1,t+2} = s_{n+1}$"
   ]
  },
  {
   "cell_type": "code",
   "execution_count": 94,
   "metadata": {},
   "outputs": [],
   "source": [
    "## Get dates into datetime format\n",
    "\n",
    "dt_dates = [datetime.fromtimestamp(date) for date in FOMC_dates]\n",
    "\n",
    "movements_df = pd.DataFrame(index = dt_dates)\n",
    "\n",
    "## Current Meeting: Day of the month\n",
    "\n",
    "movements_df['day_of_month'] = [int(datetime.strftime(date,'%d')) for date in dt_dates]\n",
    "\n",
    "## Current Meeting: Days in the month\n",
    "\n",
    "days_in_month = []\n",
    "\n",
    "for date in dt_dates:\n",
    "    \n",
    "    y = int(datetime.strftime(date,'%Y')) # Get year as number\n",
    "    \n",
    "    m = int(datetime.strftime(date,'%m')) # Get month as number\n",
    "    \n",
    "    current_month_days = monthrange(y,m)[1] \n",
    "    \n",
    "    days_in_month.append(current_month_days)\n",
    "    \n",
    "movements_df['days_in_month'] = days_in_month\n",
    "\n",
    "## Current Meeting: Is the meeting in the last week of the month?\n",
    "\n",
    "movements_df['last_7_days'] = [int(x) for x in (movements_df['days_in_month'] - movements_df['day_of_month'] <= 6)]\n",
    "\n",
    "## Current Meeting: Which futures contract will the shock be measured with?\n",
    "\n",
    "movements_df['contract'] = ['FF' + str(movements_df.loc[date,\"last_7_days\"] + 1) for date in dt_dates]\n",
    "\n",
    "## Current Meeting: What coefficient is required to adjust the futures shock to reflect the shock to FFR expectations?\n",
    "\n",
    "movement_coef = []\n",
    "\n",
    "for date in dt_dates:\n",
    "    \n",
    "    if movements_df.loc[date,\"last_7_days\"] == 1: # Since no meeting is scheduled to take place the following month, no adjustment is required and we take the shock to the following month's contract\n",
    "        \n",
    "        movement_coef.append(1)\n",
    "        \n",
    "    else:\n",
    "        \n",
    "        coef = movements_df.loc[date,\"days_in_month\"]/(movements_df.loc[date,\"days_in_month\"] - movements_df.loc[date,\"day_of_month\"])\n",
    "        \n",
    "        movement_coef.append(coef)\n",
    "        \n",
    "movements_df['movement_coef'] = movement_coef\n",
    "\n",
    "# Next Meeting: Date\n",
    "\n",
    "i = 0\n",
    "\n",
    "next_meeting = [dt_dates[i+1] for i in range(len(dt_dates) - 1)]\n",
    "\n",
    "next_meeting.append(datetime.fromtimestamp(1390996800)) # The final \"next meeting\" will not have been pulled from the Fed's website and must be entered manually\n",
    "\n",
    "movements_df['next'] = next_meeting\n",
    "\n",
    "## Next Meeting: Day of the month\n",
    "\n",
    "movements_df['next_day_of_month'] = [int(datetime.strftime(date,'%d')) for date in movements_df['next']]\n",
    "\n",
    "## Next Meeting: Days in the month\n",
    "\n",
    "next_days_in_month = []\n",
    "\n",
    "for date in movements_df['next']:\n",
    "    \n",
    "    y = int(datetime.strftime(date,'%Y'))\n",
    "    \n",
    "    m = int(datetime.strftime(date,'%m'))\n",
    "    \n",
    "    next_month_days = monthrange(y,m)[1]\n",
    "    \n",
    "    next_days_in_month.append(next_month_days)\n",
    "\n",
    "movements_df['next_days_in_month'] = next_days_in_month\n",
    "\n",
    "## Next Meeting: Is the meeting in the last week of the month?\n",
    "\n",
    "movements_df['next_last_7_days'] = [int(x) for x in (movements_df['next_days_in_month'] - movements_df['next_day_of_month'] <= 6)]\n",
    "\n",
    "## Next Meeting: Which futures contract will the shock be measured with?\n",
    "\n",
    "next_contract = []\n",
    "\n",
    "for current_date in dt_dates:\n",
    "    \n",
    "    next_date = movements_df.loc[current_date,'next']\n",
    "    \n",
    "    current_m = int(datetime.strftime(current_date,'%m'))\n",
    "    \n",
    "    next_m = int(datetime.strftime(next_date,'%m'))\n",
    "    \n",
    "    if current_m < next_m:\n",
    "        \n",
    "        months_away = next_m - current_m\n",
    "    \n",
    "    elif next_m < current_m:\n",
    "        \n",
    "        months_away = next_m + 12 - current_m\n",
    "    \n",
    "    else:\n",
    "        print('Same month error')\n",
    "    \n",
    "    contract = 'FF' + str(months_away + movements_df.loc[current_date,'next_last_7_days'] + 1)\n",
    "    \n",
    "    next_contract.append(contract)\n",
    "\n",
    "movements_df['next_contract'] = next_contract\n",
    "\n",
    "## Current Meeting: What coefficients are required to adjust the futures shock to reflect the shock to FFR expectations?\n",
    "\n",
    "next_movement_coef_1 = []\n",
    "\n",
    "next_movement_coef_2 = [] # This multiplies the (adjusted) current meeting shock, to be subtracted from the unadjusted next meeting shock\n",
    "\n",
    "for date in dt_dates:\n",
    "    \n",
    "    if movements_df.loc[date,'next_last_7_days'] == 1: # Since no meeting is scheduled to take place the following month, no adjustments are required and we take the shock to the following  month's contract\n",
    "        \n",
    "        next_movement_coef_1.append(1)                 \n",
    "        \n",
    "        next_movement_coef_2.append(0)\n",
    "    \n",
    "    else:\n",
    "        \n",
    "        coef_1 = movements_df.loc[date,\"next_days_in_month\"]/(movements_df.loc[date,\"next_days_in_month\"] - movements_df.loc[date,\"next_day_of_month\"])\n",
    "        \n",
    "        next_movement_coef_1.append(coef_1)\n",
    "        \n",
    "        coef_2 = movements_df.loc[date,\"next_day_of_month\"]/movements_df.loc[date,\"next_days_in_month\"]\n",
    "        \n",
    "        next_movement_coef_2.append(coef_2)\n",
    "        \n",
    "movements_df['next_movement_coef_1'] = next_movement_coef_1\n",
    "\n",
    "movements_df['next_movement_coef_2'] = next_movement_coef_2"
   ]
  },
  {
   "cell_type": "markdown",
   "metadata": {},
   "source": [
    "### Initialising Interest Rates Dataframe to Pull From\n",
    "\n",
    "This block gets daily prices from the start of 1994 through to the end of 2013 for each interest rate future into the same dataframe."
   ]
  },
  {
   "cell_type": "code",
   "execution_count": 95,
   "metadata": {},
   "outputs": [
    {
     "name": "stdout",
     "output_type": "stream",
     "text": [
      "FF2 added\n",
      "FF3 added\n",
      "FF4 added\n",
      "ED6 added\n",
      "ED12 added\n",
      "ED24 added\n"
     ]
    }
   ],
   "source": [
    "ir_df = pd.read_excel('FF1.xlsx').set_index('Date').drop(['Open','High','Low','Open Interest','SMAVG (15)'], axis = 1)\n",
    "\n",
    "# Bloomberg's FF1 series has a different data structure to all others, so is treated as above.\n",
    "\n",
    "ir_df = ir_df.rename({'Close':'FF1'}, axis = 1)\n",
    "\n",
    "def merge_df(df_main, x): # This function gets all data from FF1, FF2, FF3, FF4, ED6, ED12 and ED24 into the same dataframe\n",
    "    \n",
    "    print(x + ' added')\n",
    "    \n",
    "    df_r = pd.read_excel(x + '.xlsx') # for example, 'FF3.xlsx'\n",
    "    \n",
    "    df_r = df_r.set_index('Date').drop(['Open Interest','SMAVG (15)'], axis = 1).rename(columns = {'Last Price':x})\n",
    "    \n",
    "    return pd.concat([df_main, df_r], axis=1, join = 'inner')\n",
    "\n",
    "for ir in ['FF2','FF3','FF4','ED6','ED12','ED24']:\n",
    "    \n",
    "    ir_df = merge_df(ir_df, ir)"
   ]
  },
  {
   "cell_type": "markdown",
   "metadata": {},
   "source": [
    "### Establish if Data Exists for all Meetings\n",
    "\n",
    "This block establishes whether the requisite data (i.e. day of meeting and day before meeting) is available for all meeting dates. At the time of writing, data is available for all meetings but Wednesday the 12th of November, 1997. Since all meetings take place on trading days, the meeting is (safely, at the time of writing) assumed to have taken place on a day when all futures trade."
   ]
  },
  {
   "cell_type": "code",
   "execution_count": 96,
   "metadata": {},
   "outputs": [
    {
     "name": "stdout",
     "output_type": "stream",
     "text": [
      "1997-11-12 dropped.\n"
     ]
    }
   ],
   "source": [
    "previous_day_exists = [] # 1 if exists, 0 if not.\n",
    "\n",
    "for date in ir_df.index:\n",
    "    \n",
    "    if date - pd.DateOffset(1) not in ir_df.index: # Checks day before is in the dataframe.\n",
    "        \n",
    "        previous_day_exists.append(0)\n",
    "    \n",
    "    elif sum(ir_df.loc[date - pd.DateOffset(1)].isna()) > 0: # This checks for 'NaN' values for day before\n",
    "        \n",
    "        previous_day_exists.append(0)\n",
    "        \n",
    "    else:\n",
    "        \n",
    "        previous_day_exists.append(1)\n",
    "    \n",
    "ir_df['previous_day_exists'] = previous_day_exists\n",
    "\n",
    "for date in movements_df.index: # This loop drops any dates for which requisite data is unavailable from the 'movements' dataframe\n",
    "        \n",
    "    if ir_df.loc[date,'previous_day_exists'] == 0:\n",
    "        \n",
    "        movements_df = movements_df.drop(index = [date])\n",
    "        \n",
    "        print(str(date)[:10] + ' dropped.')"
   ]
  },
  {
   "cell_type": "markdown",
   "metadata": {},
   "source": [
    "### Calculating Price *Movements*\n",
    "\n",
    "This block takes the end-of-day prices for the day of and before each meeting and calculates the movement over the window. Since each future is priced at $100 - r$ where $r$ is the interest rate in percentage terms, the requisite adjustment is made to reflect the movement in $r$, not $100 - r$."
   ]
  },
  {
   "cell_type": "code",
   "execution_count": 97,
   "metadata": {},
   "outputs": [],
   "source": [
    "for ir in ['FF1','FF2','FF3','FF4','ED6','ED12','ED24']: # Loops through each interest rate.\n",
    "    \n",
    "    x = []\n",
    "    \n",
    "    for date in movements_df.index:\n",
    "        \n",
    "        if date.day == 1 and ir in ['FF1','FF2','FF3']: # Handles movement of price corresponding to month from one contract to another at the start of the month\n",
    "        \n",
    "            movement = (100 - ir_df.loc[date,ir]) - (100 - ir_df.loc[date - pd.DateOffset(1),'FF' + str(int(ir[2]) + 1)])\n",
    "        \n",
    "            x.append(movement)\n",
    "        \n",
    "        else:\n",
    "            \n",
    "            movement = (100 - ir_df.loc[date,ir]) - (100 - ir_df.loc[date - pd.DateOffset(1),ir])\n",
    "        \n",
    "            x.append(movement)\n",
    "        \n",
    "    movements_df[ir] = x"
   ]
  },
  {
   "cell_type": "markdown",
   "metadata": {},
   "source": [
    "### Getting Adjusted FFR Movements\n",
    "\n",
    "This block establishes which contract is required to calculate the implied shift in expectations of FFR between the current and next meeting, and the next meeting and the one that follows. It then carries out the calculations by the method stated above, with the coefficients found above."
   ]
  },
  {
   "cell_type": "code",
   "execution_count": 98,
   "metadata": {},
   "outputs": [],
   "source": [
    "FFR_t0_t1 = [] \n",
    "\n",
    "FFR_t1_t2 = []\n",
    "\n",
    "for date in movements_df.index:\n",
    "    \n",
    "    con_t0 = movements_df.loc[date,'contract'] # Contract for current meeting\n",
    "    \n",
    "    coef_t0 = movements_df.loc[date,'movement_coef'] # Coefficient for current meeting\n",
    "    \n",
    "    mov_t0 = movements_df.loc[date,con_t0] # Movement for current meeting\n",
    "    \n",
    "    adj_t0 = coef_t0*mov_t0 # Implied shift in expectations\n",
    "    \n",
    "    FFR_t0_t1.append(adj_t0)\n",
    "    \n",
    "    con_t1 = movements_df.loc[date,'next_contract'] # Contract for next meeting\n",
    "    \n",
    "    coef_t1a = movements_df.loc[date,'next_movement_coef_1'] # Coefficient for next meeting\n",
    "    \n",
    "    coef_t1b = movements_df.loc[date,'next_movement_coef_2'] # Movement for next meeting\n",
    "    \n",
    "    mov_t1 = movements_df.loc[date,con_t1]\n",
    "    \n",
    "    adj_t1 = coef_t1a*mov_t1 - coef_t1b*adj_t0\n",
    "    \n",
    "    FFR_t1_t2.append(adj_t1)\n",
    "    \n",
    "movements_df['FFR_t0t1'] = FFR_t0_t1\n",
    "\n",
    "movements_df['FFR_t1t2'] = FFR_t1_t2\n",
    "\n",
    "movements_df_adj = movements_df.drop(movements_df.columns[:16], axis = 1) # Drops all but movements in Eurodollar Futures and implied FFR expectations."
   ]
  },
  {
   "cell_type": "markdown",
   "metadata": {},
   "source": [
    "### Conducting the Principal Component Analysis\n",
    "\n",
    "This block conducts the principal component analysis, deriving the raw shock series from the data. Although Z-score standardisation is commonplace for principal component analyses for disparate variables, all variables analysed here are in effect movements in interest rates, and as such values are directly commensurable. Thus, I do not standardise the data."
   ]
  },
  {
   "cell_type": "code",
   "execution_count": 99,
   "metadata": {},
   "outputs": [],
   "source": [
    "shock_df = movements_df_adj.copy() # This prevents erroneous PCA if the code is re-run without a kernel restart. Conducting a  PCA on a dataframe to which a previous PCA has been added will incorporate that previous shock series into the new analysis, which observation suggests biases the data away from zero.\n",
    "\n",
    "pca = PCA(n_components = 1)\n",
    "    \n",
    "movements = movements_df_adj.values\n",
    "\n",
    "shock_df['shock'] = pca.fit_transform(movements)"
   ]
  },
  {
   "cell_type": "markdown",
   "metadata": {},
   "source": [
    "### Export to *.csv*"
   ]
  },
  {
   "cell_type": "code",
   "execution_count": 100,
   "metadata": {},
   "outputs": [],
   "source": [
    "shock_df.to_csv('shock.csv')"
   ]
  },
  {
   "cell_type": "markdown",
   "metadata": {},
   "source": [
    "### Producing Figure 1"
   ]
  },
  {
   "cell_type": "code",
   "execution_count": 101,
   "metadata": {},
   "outputs": [
    {
     "data": {
      "image/png": "[encoded data removed]",
      "text/plain": [
       "<Figure size 720x360 with 1 Axes>"
      ]
     },
     "metadata": {
      "needs_background": "light"
     },
     "output_type": "display_data"
    }
   ],
   "source": [
    "from matplotlib import pyplot as plt\n",
    "\n",
    "y = -1*shock_df.shock.values\n",
    "\n",
    "colors = []\n",
    "\n",
    "x = shock_df.index\n",
    "\n",
    "QE = [120]\n",
    "\n",
    "for i in range(len(y)):\n",
    "    \n",
    "    if i in QE:\n",
    "        \n",
    "        colors.append('orange')\n",
    "    \n",
    "    elif y[i] > 0:\n",
    "        \n",
    "        colors.append('g')\n",
    "    \n",
    "    else:\n",
    "        \n",
    "        colors.append('r')\n",
    "\n",
    "fig = plt.figure(figsize = (10,5))\n",
    "\n",
    "plt.bar(x,y, width = 25, color = colors)\n",
    "\n",
    "plt.ylabel('Shock')\n",
    "\n",
    "plt.ylim([-0.8,0.8])\n",
    "\n",
    "plt.gca().spines['right'].set_visible(False)\n",
    "plt.gca().spines['top'].set_visible(False)"
   ]
  }
 ],
 "metadata": {
  "kernelspec": {
   "display_name": "Python 3",
   "language": "python",
   "name": "python3"
  },
  "language_info": {
   "codemirror_mode": {
    "name": "ipython",
    "version": 3
   },
   "file_extension": ".py",
   "mimetype": "text/x-python",
   "name": "python",
   "nbconvert_exporter": "python",
   "pygments_lexer": "ipython3",
   "version": "3.7.1"
  }
 },
 "nbformat": 4,
 "nbformat_minor": 2
}
